{
 "cells": [
  {
   "cell_type": "code",
   "execution_count": null,
   "metadata": {},
   "outputs": [],
   "source": [
    "import numpy as np\n",
    "import scipy\n",
    "# import pandas\n",
    "import torch\n",
    "import utils\n",
    "from utils import generate_state_space_Matern_23\n",
    "from scipy import linalg\n",
    "from utils import build_id_key_table\n",
    "from model_Bayes_diffusion import Bayes_diffu_tensor\n",
    "import tqdm\n",
    "\n",
    "data_file = '../processed_data/beijing_15k.npy'\n",
    "full_data = np.load(data_file, allow_pickle=True).item()\n",
    "\n",
    "fold=0\n",
    "\n",
    "# here should add one more data-loader class\n",
    "data_dict = full_data['data'][fold]\n",
    "data_dict['ndims'] = full_data['ndims']\n",
    "data_dict['num_node'] = full_data['num_node']\n",
    "\n",
    "data_dict['time_id_table'] = full_data['time_id_table']\n",
    "data_dict['time_uni'] = full_data['time_uni']\n",
    "\n",
    "\n",
    "hyper_dict={}\n",
    "\n",
    "hyper_dict['epoch'] = 2\n",
    "hyper_dict['ls'] = 0.5\n",
    "hyper_dict['var'] = 0.1\n",
    "hyper_dict['device'] = torch.device(\"cpu\")\n",
    "hyper_dict['R_U'] = 3 # dim of each node embedding\n",
    "hyper_dict['c'] = 1.00 # diffusion rate\n",
    "hyper_dict['a0']=1.0\n",
    "hyper_dict['b0']=1.0\n",
    "\n",
    "\n",
    "F,P_inf = utils.generate_state_space_Matern_23(data_dict,hyper_dict)\n",
    "\n",
    "data_dict['F'] = F\n",
    "data_dict['P_inf'] = P_inf"
   ]
  },
  {
   "cell_type": "code",
   "execution_count": 2,
   "metadata": {},
   "outputs": [
    {
     "name": "stdout",
     "output_type": "stream",
     "text": [
      "1.7.1\n"
     ]
    }
   ],
   "source": [
    "print(torch.__version__)"
   ]
  },
  {
   "cell_type": "code",
   "execution_count": 2,
   "metadata": {},
   "outputs": [
    {
     "name": "stderr",
     "output_type": "stream",
     "text": [
      "  0%|          | 0/1 [00:00<?, ?it/s]"
     ]
    },
    {
     "name": "stdout",
     "output_type": "stream",
     "text": [
      "init state: test_rmse: 1.0654 \n"
     ]
    },
    {
     "name": "stderr",
     "output_type": "stream",
     "text": [
      "\n"
     ]
    },
    {
     "ename": "AttributeError",
     "evalue": "module 'torch' has no attribute 'nan_to_num'",
     "output_type": "error",
     "traceback": [
      "\u001b[1;31m---------------------------------------------------------------------------\u001b[0m",
      "\u001b[1;31mAttributeError\u001b[0m                            Traceback (most recent call last)",
      "\u001b[1;32m<ipython-input-2-45b8455d9be7>\u001b[0m in \u001b[0;36m<module>\u001b[1;34m\u001b[0m\n\u001b[0;32m     19\u001b[0m     \u001b[1;32mfor\u001b[0m \u001b[0mT\u001b[0m \u001b[1;32min\u001b[0m \u001b[0mrange\u001b[0m\u001b[1;33m(\u001b[0m\u001b[0mN_T\u001b[0m\u001b[1;33m)\u001b[0m\u001b[1;33m:\u001b[0m\u001b[1;33m\u001b[0m\u001b[1;33m\u001b[0m\u001b[0m\n\u001b[0;32m     20\u001b[0m         \u001b[0mmodel\u001b[0m\u001b[1;33m.\u001b[0m\u001b[0mmsg_update_U_llk_del\u001b[0m\u001b[1;33m(\u001b[0m\u001b[0mT\u001b[0m\u001b[1;33m)\u001b[0m\u001b[1;33m\u001b[0m\u001b[1;33m\u001b[0m\u001b[0m\n\u001b[1;32m---> 21\u001b[1;33m         \u001b[0mmodel\u001b[0m\u001b[1;33m.\u001b[0m\u001b[0mmsg_update_U_llk\u001b[0m\u001b[1;33m(\u001b[0m\u001b[0mT\u001b[0m\u001b[1;33m)\u001b[0m\u001b[1;33m\u001b[0m\u001b[1;33m\u001b[0m\u001b[0m\n\u001b[0m\u001b[0;32m     22\u001b[0m \u001b[1;33m\u001b[0m\u001b[0m\n\u001b[0;32m     23\u001b[0m \u001b[1;33m\u001b[0m\u001b[0m\n",
      "\u001b[1;32mc:\\Users\\24058\\Dropbox\\diffusion_tensor\\code_fang\\model_Bayes_diffusion.py\u001b[0m in \u001b[0;36mmsg_update_U_llk\u001b[1;34m(self, T)\u001b[0m\n\u001b[0;32m    163\u001b[0m                         \u001b[1;33m-\u001b[0m \u001b[0mtorch\u001b[0m\u001b[1;33m.\u001b[0m\u001b[0mdiv\u001b[0m\u001b[1;33m(\u001b[0m\u001b[0mself\u001b[0m\u001b[1;33m.\u001b[0m\u001b[0mmsg_U_llk_m_del\u001b[0m\u001b[1;33m[\u001b[0m\u001b[1;33m:\u001b[0m\u001b[1;33m,\u001b[0m\u001b[1;33m:\u001b[0m\u001b[1;33m,\u001b[0m\u001b[0mT\u001b[0m\u001b[1;33m]\u001b[0m\u001b[1;33m,\u001b[0m\u001b[0mself\u001b[0m\u001b[1;33m.\u001b[0m\u001b[0mmsg_U_llk_v_del\u001b[0m\u001b[1;33m[\u001b[0m\u001b[1;33m:\u001b[0m\u001b[1;33m,\u001b[0m\u001b[1;33m:\u001b[0m\u001b[1;33m,\u001b[0m\u001b[0mT\u001b[0m\u001b[1;33m]\u001b[0m\u001b[1;33m)\u001b[0m\u001b[1;33m\u001b[0m\u001b[1;33m\u001b[0m\u001b[0m\n\u001b[0;32m    164\u001b[0m \u001b[1;33m\u001b[0m\u001b[0m\n\u001b[1;32m--> 165\u001b[1;33m         \u001b[0mself\u001b[0m\u001b[1;33m.\u001b[0m\u001b[0mmsg_U_llk_v\u001b[0m\u001b[1;33m[\u001b[0m\u001b[1;33m:\u001b[0m\u001b[1;33m,\u001b[0m\u001b[1;33m:\u001b[0m\u001b[1;33m,\u001b[0m\u001b[0mT\u001b[0m\u001b[1;33m]\u001b[0m \u001b[1;33m=\u001b[0m \u001b[0mtorch\u001b[0m\u001b[1;33m.\u001b[0m\u001b[0mnan_to_num\u001b[0m\u001b[1;33m(\u001b[0m\u001b[1;36m1.0\u001b[0m\u001b[1;33m/\u001b[0m\u001b[0mmsg_U_llk_v_inv\u001b[0m\u001b[1;33m)\u001b[0m\u001b[1;33m\u001b[0m\u001b[1;33m\u001b[0m\u001b[0m\n\u001b[0m\u001b[0;32m    166\u001b[0m         \u001b[0mself\u001b[0m\u001b[1;33m.\u001b[0m\u001b[0mmsg_U_llk_m\u001b[0m\u001b[1;33m[\u001b[0m\u001b[1;33m:\u001b[0m\u001b[1;33m,\u001b[0m\u001b[1;33m:\u001b[0m\u001b[1;33m,\u001b[0m\u001b[0mT\u001b[0m\u001b[1;33m]\u001b[0m \u001b[1;33m=\u001b[0m \u001b[0mtorch\u001b[0m\u001b[1;33m.\u001b[0m\u001b[0mnan_to_num\u001b[0m\u001b[1;33m(\u001b[0m\u001b[1;33m(\u001b[0m\u001b[1;36m1.0\u001b[0m\u001b[1;33m/\u001b[0m\u001b[0mmsg_U_llk_v_inv\u001b[0m\u001b[1;33m)\u001b[0m \u001b[1;33m*\u001b[0m \u001b[0mmsg_U_llk_v_inv_m\u001b[0m\u001b[1;33m)\u001b[0m\u001b[1;33m\u001b[0m\u001b[1;33m\u001b[0m\u001b[0m\n\u001b[0;32m    167\u001b[0m \u001b[1;33m\u001b[0m\u001b[0m\n",
      "\u001b[1;31mAttributeError\u001b[0m: module 'torch' has no attribute 'nan_to_num'"
     ]
    }
   ],
   "source": [
    "N_T = len(data_dict['time_uni'])\n",
    "\n",
    "model = Bayes_diffu_tensor(data_dict,hyper_dict)\n",
    "\n",
    "# T=2\n",
    "# model.msg_update_U_llk_del(T)\n",
    "# model.msg_update_U_llk(T)\n",
    "\n",
    "# model.msg_update_U_trans_del(T)\n",
    "# model.msg_update_U_trans(T,mode='forward')\n",
    "\n",
    "# model.msg_update_U_trans(T,mode='backward')\n",
    "test_rmse = model.model_test()\n",
    "print('init state: test_rmse: %.4f '%(test_rmse))\n",
    "\n",
    "EPOCH = 1\n",
    "for epoch in tqdm.tqdm(range(EPOCH)):\n",
    "    # forward\n",
    "    for T in range(N_T):\n",
    "        model.msg_update_U_llk_del(T)\n",
    "        model.msg_update_U_llk(T)\n",
    "\n",
    "        \n",
    "\n",
    "        if T<N_T-1:\n",
    "            model.msg_update_U_trans_del(T,mode='forward')\n",
    "            model.msg_update_U_trans_vec(T,mode='forward')\n",
    "            # model.msg_update_U_trans(T,mode='forward')\n",
    "\n",
    "        nan_check_1(T)\n",
    "    model.msg_update_U_trans_del(N_T-1,mode='backward')\n",
    "    \n",
    "    # backward \n",
    "    # for T in reversed(range(N_T-1)):\n",
    "        \n",
    "    #     # model.msg_update_U_trans(T,mode='backward')\n",
    "    #     model.msg_update_U_trans_vec(T,mode='backward')\n",
    "\n",
    "    #     model.msg_update_U_llk_del(T)\n",
    "    #     model.msg_update_U_llk(T)\n",
    "\n",
    "    #     model.msg_update_U_trans_del(T)\n",
    "        \n",
    "    model.post_update_U()\n",
    "    test_rmse = model.model_test()\n",
    "    print('it: %d, test_rmse: %.4f '%(epoch,test_rmse))"
   ]
  },
  {
   "cell_type": "code",
   "execution_count": 47,
   "metadata": {},
   "outputs": [],
   "source": [
    "model = Bayes_diffu_tensor(data_dict,hyper_dict)\n",
    "T = 0\n",
    "model.msg_update_U_llk_del(T)\n",
    "# model.msg_update_U_llk(T)\n",
    "\n",
    "nan_check_1(T)"
   ]
  },
  {
   "cell_type": "code",
   "execution_count": 3,
   "metadata": {},
   "outputs": [
    {
     "ename": "AttributeError",
     "evalue": "module 'torch' has no attribute 'nan_to_num'",
     "output_type": "error",
     "traceback": [
      "\u001b[1;31m---------------------------------------------------------------------------\u001b[0m",
      "\u001b[1;31mAttributeError\u001b[0m                            Traceback (most recent call last)",
      "\u001b[1;32m<ipython-input-3-145fcc11f7ce>\u001b[0m in \u001b[0;36m<module>\u001b[1;34m\u001b[0m\n\u001b[0;32m      1\u001b[0m \u001b[0mx\u001b[0m \u001b[1;33m=\u001b[0m \u001b[0mtorch\u001b[0m\u001b[1;33m.\u001b[0m\u001b[0mtensor\u001b[0m\u001b[1;33m(\u001b[0m\u001b[1;33m[\u001b[0m\u001b[0mfloat\u001b[0m\u001b[1;33m(\u001b[0m\u001b[1;34m'nan'\u001b[0m\u001b[1;33m)\u001b[0m\u001b[1;33m,\u001b[0m \u001b[0mfloat\u001b[0m\u001b[1;33m(\u001b[0m\u001b[1;34m'inf'\u001b[0m\u001b[1;33m)\u001b[0m\u001b[1;33m,\u001b[0m \u001b[1;33m-\u001b[0m\u001b[0mfloat\u001b[0m\u001b[1;33m(\u001b[0m\u001b[1;34m'inf'\u001b[0m\u001b[1;33m)\u001b[0m\u001b[1;33m,\u001b[0m \u001b[1;36m3.14\u001b[0m\u001b[1;33m]\u001b[0m\u001b[1;33m)\u001b[0m\u001b[1;33m\u001b[0m\u001b[1;33m\u001b[0m\u001b[0m\n\u001b[1;32m----> 2\u001b[1;33m \u001b[0mtorch\u001b[0m\u001b[1;33m.\u001b[0m\u001b[0mnan_to_num\u001b[0m\u001b[1;33m(\u001b[0m\u001b[0mx\u001b[0m\u001b[1;33m)\u001b[0m\u001b[1;33m\u001b[0m\u001b[1;33m\u001b[0m\u001b[0m\n\u001b[0m",
      "\u001b[1;31mAttributeError\u001b[0m: module 'torch' has no attribute 'nan_to_num'"
     ]
    }
   ],
   "source": [
    "x = torch.tensor([float('nan'), float('inf'), -float('inf'), 3.14])\n",
    "torch.nan_to_num(x)"
   ]
  },
  {
   "cell_type": "code",
   "execution_count": 48,
   "metadata": {},
   "outputs": [],
   "source": [
    "eind_T = model.time_data_table_tr[T] # id of observed entries at this time-stamp\n",
    "N_T = len(eind_T) \n",
    "ind_T = model.ind_tr[eind_T]\n",
    "y_T = model.y_tr[eind_T].squeeze()\n",
    "\n",
    "U_llk_del_T = torch.cat([model.msg_U_llk_m_del[:,:,T],model.msg_U_llk_v_del[:,:,T]]) # concat the m and v \n",
    "U_llk_del_T.requires_grad=True \n",
    "\n",
    "U_llk_del_T_m,U_llk_del_T_v = model.arrange_U_llk(U_llk_del_T) # arrange U as mode-wise\n",
    "E_z_del, E_z_2_del = model.moment_product_U_del(ind_T,U_llk_del_T_m,U_llk_del_T_v)\n",
    "\n",
    "model.msg_update_tau_del(T)\n",
    "E_tau_del = model.msg_tau_a_del_T[T]/model.msg_tau_b_del_T[T]\n",
    "\n",
    "log_Z = 0.5*N_T*torch.log(E_tau_del/(2*np.pi)) \\\n",
    "    -  0.5*E_tau_del* ( (y_T*y_T).sum() - 2* (y_T*E_z_del).sum() + E_z_2_del.sum())\n",
    "\n",
    "log_Z.backward()\n",
    "\n",
    "U_llk_del_grad = U_llk_del_T.grad\n",
    "\n",
    "U_llk_del_m_grad = U_llk_del_grad[:model.num_nodes]\n",
    "U_llk_del_v_grad = U_llk_del_grad[model.num_nodes:]\n",
    "\n",
    "U_llk_m_star = model.msg_U_llk_m_del[:,:,T] + model.msg_U_llk_v_del[:,:,T] * U_llk_del_m_grad\n",
    "\n",
    "U_llk_v_star = model.msg_U_llk_v_del[:,:,T]\\\n",
    "                - torch.square(model.msg_U_llk_v_del[:,:,T]) * (torch.square(U_llk_del_m_grad)-2*U_llk_del_v_grad) \n",
    "\n",
    "msg_U_llk_v_inv = 1.0/U_llk_v_star - 1.0/model.msg_U_llk_v_del[:,:,T]\n",
    "msg_U_llk_v_inv_m = torch.div(U_llk_m_star,U_llk_v_star) \\\n",
    "                - torch.div(model.msg_U_llk_m_del[:,:,T],model.msg_U_llk_v_del[:,:,T])"
   ]
  },
  {
   "cell_type": "code",
   "execution_count": 50,
   "metadata": {},
   "outputs": [
    {
     "data": {
      "text/plain": [
       "tensor([[-0.5468, -0.6108, -0.6902],\n",
       "        [    nan,     nan,     nan],\n",
       "        [    nan,     nan,     nan],\n",
       "        [-0.4841, -0.5847, -0.5416],\n",
       "        [    nan,     nan,     nan],\n",
       "        [-0.4951, -0.5677, -0.4819],\n",
       "        [    nan,     nan,     nan],\n",
       "        [    nan,     nan,     nan],\n",
       "        [    nan,     nan,     nan],\n",
       "        [    nan,     nan,     nan],\n",
       "        [    nan,     nan,     nan],\n",
       "        [    nan,     nan,     nan],\n",
       "        [    nan,     nan,     nan],\n",
       "        [-0.4797, -0.5017, -0.5334],\n",
       "        [-0.4956, -0.4667, -0.4879],\n",
       "        [    nan,     nan,     nan],\n",
       "        [    nan,     nan,     nan],\n",
       "        [    nan,     nan,     nan],\n",
       "        [    nan,     nan,     nan],\n",
       "        [-0.4646, -0.4021, -0.5465],\n",
       "        [-0.5193, -0.4457, -0.5548],\n",
       "        [-0.4944, -0.5099, -0.4477],\n",
       "        [    nan,     nan,     nan],\n",
       "        [-0.6044, -0.6462, -0.6989],\n",
       "        [    nan,     nan,     nan],\n",
       "        [-0.5776, -0.5121, -0.4749],\n",
       "        [-0.5874, -0.4998, -0.5694],\n",
       "        [-0.5623, -0.5531, -0.4721],\n",
       "        [-0.5291, -0.4790, -0.4227],\n",
       "        [-0.5681, -0.4447, -0.5139]], dtype=torch.float64)"
      ]
     },
     "execution_count": 50,
     "metadata": {},
     "output_type": "execute_result"
    }
   ],
   "source": [
    "(1.0/msg_U_llk_v_inv) * msg_U_llk_v_inv_m"
   ]
  },
  {
   "cell_type": "code",
   "execution_count": 49,
   "metadata": {},
   "outputs": [
    {
     "data": {
      "text/plain": [
       "tensor([[3344.1276, 1824.0892, 2060.4710],\n",
       "        [      inf,       inf,       inf],\n",
       "        [      inf,       inf,       inf],\n",
       "        [ 638.9697,  489.7161,  541.1341],\n",
       "        [      inf,       inf,       inf],\n",
       "        [ 634.7017,  429.8073,  686.0474],\n",
       "        [      inf,       inf,       inf],\n",
       "        [      inf,       inf,       inf],\n",
       "        [      inf,       inf,       inf],\n",
       "        [      inf,       inf,       inf],\n",
       "        [      inf,       inf,       inf],\n",
       "        [      inf,       inf,       inf],\n",
       "        [      inf,       inf,       inf],\n",
       "        [ 942.3976,  822.0780,  880.9633],\n",
       "        [ 432.0160,  473.3855,  454.2264],\n",
       "        [      inf,       inf,       inf],\n",
       "        [      inf,       inf,       inf],\n",
       "        [      inf,       inf,       inf],\n",
       "        [      inf,       inf,       inf],\n",
       "        [3101.3267, 2294.1741, 2208.9380],\n",
       "        [3101.1818, 2293.8560, 2208.0437],\n",
       "        [2634.1705, 2262.2715, 3388.9745],\n",
       "        [      inf,       inf,       inf],\n",
       "        [2194.7408, 1089.4377, 1997.2602],\n",
       "        [      inf,       inf,       inf],\n",
       "        [2634.4514, 2261.2155, 3388.3394],\n",
       "        [2351.6689, 2565.7666, 2899.8265],\n",
       "        [2633.8058, 2261.5925, 3387.6260],\n",
       "        [2634.8200, 2261.9786, 3388.5583],\n",
       "        [2352.7974, 2565.9535, 2900.3578]], dtype=torch.float64)"
      ]
     },
     "execution_count": 49,
     "metadata": {},
     "output_type": "execute_result"
    }
   ],
   "source": [
    "1.0/msg_U_llk_v_inv"
   ]
  },
  {
   "cell_type": "code",
   "execution_count": 39,
   "metadata": {},
   "outputs": [
    {
     "data": {
      "text/plain": [
       "tensor([[0.4998, 0.4999, 0.4999],\n",
       "        [0.5000, 0.5000, 0.5000],\n",
       "        [0.5000, 0.5000, 0.5000],\n",
       "        [0.4994, 0.4997, 0.4997],\n",
       "        [0.5000, 0.5000, 0.5000],\n",
       "        [0.4996, 0.4996, 0.4997],\n",
       "        [0.5000, 0.5000, 0.5000],\n",
       "        [0.5000, 0.5000, 0.5000],\n",
       "        [0.5000, 0.5000, 0.5000],\n",
       "        [0.5000, 0.5000, 0.5000],\n",
       "        [0.5000, 0.5000, 0.5000],\n",
       "        [0.5000, 0.5000, 0.5000],\n",
       "        [0.5000, 0.5000, 0.5000],\n",
       "        [0.4996, 0.4997, 0.4998],\n",
       "        [0.4995, 0.4994, 0.4993],\n",
       "        [0.5000, 0.5000, 0.5000],\n",
       "        [0.5000, 0.5000, 0.5000],\n",
       "        [0.5000, 0.5000, 0.5000],\n",
       "        [0.5000, 0.5000, 0.5000],\n",
       "        [0.4998, 0.4999, 0.4999],\n",
       "        [0.4998, 0.4999, 0.4999],\n",
       "        [0.4999, 0.4999, 0.4999],\n",
       "        [0.5000, 0.5000, 0.5000],\n",
       "        [0.4998, 0.4999, 0.4999],\n",
       "        [0.5000, 0.5000, 0.5000],\n",
       "        [0.4999, 0.4999, 0.4999],\n",
       "        [0.4998, 0.4999, 0.4999],\n",
       "        [0.4999, 0.4999, 0.4999],\n",
       "        [0.4999, 0.4999, 0.4999],\n",
       "        [0.4998, 0.4999, 0.4999]], dtype=torch.float64)"
      ]
     },
     "execution_count": 39,
     "metadata": {},
     "output_type": "execute_result"
    }
   ],
   "source": [
    "U_llk_v_star"
   ]
  },
  {
   "cell_type": "code",
   "execution_count": 32,
   "metadata": {},
   "outputs": [
    {
     "data": {
      "text/plain": [
       "tensor([[0.],\n",
       "        [1.],\n",
       "        [1.],\n",
       "        ...,\n",
       "        [1.],\n",
       "        [1.],\n",
       "        [1.]])"
      ]
     },
     "execution_count": 32,
     "metadata": {},
     "output_type": "execute_result"
    }
   ],
   "source": [
    "model.msg_tau_a_del_T"
   ]
  },
  {
   "cell_type": "code",
   "execution_count": 29,
   "metadata": {},
   "outputs": [
    {
     "data": {
      "text/plain": [
       "tensor([2.0651, 1.3732, 2.2927, 1.0905, 3.0238, 1.5573, 2.3889, 1.0737, 1.3768],\n",
       "       dtype=torch.float64, grad_fn=<SqueezeBackward0>)"
      ]
     },
     "execution_count": 29,
     "metadata": {},
     "output_type": "execute_result"
    }
   ],
   "source": [
    "all_one = torch.ones(N_T,1,3).double()\n",
    "all_one_T = torch.ones(N_T,3,1).double()\n",
    "torch.bmm(all_one,torch.bmm(E_z_2,all_one_T)).squeeze()"
   ]
  },
  {
   "cell_type": "code",
   "execution_count": 19,
   "metadata": {},
   "outputs": [
    {
     "data": {
      "text/plain": [
       "tensor(False)"
      ]
     },
     "execution_count": 19,
     "metadata": {},
     "output_type": "execute_result"
    }
   ],
   "source": [
    "\n",
    "# model.msg_U_llk_v_del\n",
    "model.msg_U_llk_v.isnan().any()"
   ]
  },
  {
   "cell_type": "code",
   "execution_count": 3,
   "metadata": {},
   "outputs": [],
   "source": [
    "\n",
    "\n",
    "def nan_check_1(T):\n",
    "    msg_list = [model.msg_U_llk_m[:,:,T],model.msg_U_llk_v[:,:,T],\\\n",
    "                model.msg_U_f_m[:,:,T],model.msg_U_f_v[:,:,T],\\\n",
    "                model.msg_U_b_m[:,:,T],model.msg_U_b_v[:,:,T],\\\n",
    "                model.msg_U_llk_m_del[:,:,T], model.msg_U_llk_v_del[:,:,T],\\\n",
    "                model.msg_U_f_m_del[:,:,T],model.msg_U_f_v_del[:,:,T],\\\n",
    "                model.msg_U_b_m_del[:,:,T],model.msg_U_b_v_del[:,:,T]]\n",
    "\n",
    "    msg_name_list = ['msg_U_llk_m','msg_U_llk_v',\n",
    "                     'msg_U_f_m','msg_U_f_v',\n",
    "                     'msg_U_b_m','msg_U_b_v',                 \n",
    "                    'msg_U_llk_m_del','msg_U_llk_v_del',\n",
    "                     'msg_U_f_m_del','msg_U_f_v_del',\n",
    "                     'msg_U_b_m_del','msg_U_b_v_del']\n",
    "    for id,msg in enumerate(msg_list):\n",
    "        if msg.isnan().any():\n",
    "            print('invalid number: %s at time %d '%(msg_name_list[id],T))\n",
    "            break"
   ]
  }
 ],
 "metadata": {
  "interpreter": {
   "hash": "0e2c091a91198da3c83fa5f5fdee90d73e538d52511d9a8da7d554d565cda77a"
  },
  "kernelspec": {
   "display_name": "Python 3 (ipykernel)",
   "language": "python",
   "name": "python3"
  },
  "language_info": {
   "codemirror_mode": {
    "name": "ipython",
    "version": 3
   },
   "file_extension": ".py",
   "mimetype": "text/x-python",
   "name": "python",
   "nbconvert_exporter": "python",
   "pygments_lexer": "ipython3",
   "version": "3.9.6"
  }
 },
 "nbformat": 4,
 "nbformat_minor": 2
}
