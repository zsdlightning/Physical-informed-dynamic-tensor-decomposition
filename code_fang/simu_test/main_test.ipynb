{
    "cells": [
        {
            "cell_type": "code",
            "execution_count": 1,
            "source": [
                "import numpy as np\n",
                "import scipy\n",
                "import pandas\n",
                "import torch\n",
                "import utils\n",
                "from scipy import linalg\n"
            ],
            "outputs": [],
            "metadata": {}
        },
        {
            "cell_type": "code",
            "execution_count": 2,
            "source": [
                "data_file = '../../../data/Beijing/4x6x12x6/beijing_15k.npy'\n",
                "data = np.load(data_file, allow_pickle=True).item()\n",
                "nvec = data['ndims']\n",
                "data = data['data']\n",
                "\n",
                "data_dict = {}\n",
                "\n",
                "fold=0\n",
                "data_dict['ind'] = torch.tensor(data[fold]['tr_ind'])\n",
                "data_dict['t'] = data[fold]['tr_T']\n",
                "data_dict['y'] = data[fold]['tr_y'].astype(np.float32)\n",
                "data_dict['ind_te'] = data[fold]['te_ind']\n",
                "data_dict['t_te'] = data[fold]['te_T']\n",
                "data_dict['y_te'] = data[fold]['te_y'].astype(np.float32)\n",
                "data_dict['ndims'] = nvec\n",
                "data_dict['num_node'] = np.sum(nvec)\n",
                "data_dict['nmod'] = len(nvec)\n",
                "data_dict['device'] = torch.device(\"cpu\")\n",
                "\n",
                "\n"
            ],
            "outputs": [],
            "metadata": {}
        },
        {
            "cell_type": "code",
            "execution_count": 5,
            "source": [
                "L = utils.generate_Lapla(data_dict)\n",
                "\n"
            ],
            "outputs": [],
            "metadata": {}
        },
        {
            "cell_type": "code",
            "execution_count": 27,
            "source": [
                "def generate_state_space_Matern_23(data_dict,hyper_dict):\n",
                "    '''\n",
                "    For matern 3/2 kernel with given hyper-paras and data,\n",
                "    generate the parameters of coorspoding state_space_model,\n",
                "    recall: for each dim of all-node-embedding, the form of state_space_model is iid (independent & identical)\n",
                "    \n",
                "    input: data_dict, hyper_dict \n",
                "    output: trans mat: F,  stationary covarianc: P_inf\n",
                "\n",
                "    '''\n",
                "\n",
                "    D = data_dict['num_node']\n",
                "\n",
                "    # hyper-para of kernel\n",
                "    lengthscale = hyper_dict['ls']\n",
                "    variance = hyper_dict['vars']\n",
                "    \n",
                "    lamb = np.sqrt(3)/lengthscale\n",
                "    \n",
                "    # F = torch.zeros((2*D, 2*D), device=data_dict['device'])\n",
                "    F = np.zeros((2*D, 2*D))\n",
                "    F[:D,:D] = utils.generate_Lapla(data_dict)\n",
                "    F[:D,D:] = np.eye(D)\n",
                "    F[D:,:D] = -np.square(lamb) * np.eye(D)\n",
                "    F[D:,D:] = -2 * lamb *  np.eye(D)\n",
                "\n",
                "    Q_c = 4 * lamb**3 * variance\n",
                "    L = np.concatenate([np.zeros(D),np.ones(D)]).reshape(-1,1) \n",
                "    Q = - Q_c* np.matmul(L,L.T)\n",
                "\n",
                "    P_inf = Lyapunov_slover(F,Q)\n",
                "\n",
                "    return F, P_inf\n",
                "\n",
                "\n",
                "def Lyapunov_slover(F,Q):\n",
                "    '''\n",
                "    For the given mix-process SDE, solve correspoding Lyapunov to get P_{\\inf}  \n",
                "    '''\n",
                "    \n",
                "    return linalg.solve_continuous_lyapunov(F, Q)\n",
                "    "
            ],
            "outputs": [],
            "metadata": {}
        },
        {
            "cell_type": "code",
            "execution_count": 59,
            "source": [
                "D = 1\n",
                "\n",
                "# hyper-para of kernel\n",
                "lengthscale = 1\n",
                "variance = 1\n",
                "\n",
                "lamb = np.sqrt(3)/lengthscale\n",
                "\n",
                "# F = torch.zeros((2*D, 2*D), device=data_dict['device'])\n",
                "F = np.zeros((2*D, 2*D))\n",
                "# F[:D,:D] = utils.generate_Lapla(data_dict)\n",
                "\n",
                "F[:D,D:] = np.eye(D)\n",
                "F[D:,:D] = -np.square(lamb) * np.eye(D)\n",
                "F[D:,D:] = -2 * lamb *  np.eye(D)\n",
                "\n",
                "Q_c = 4 * lamb**3 * variance\n",
                "L = np.concatenate([np.zeros(D),np.ones(D)]).reshape(-1,1) \n",
                "Q = - Q_c* np.matmul(L,L.T)\n",
                "\n",
                "P_inf = Lyapunov_slover(F,Q)"
            ],
            "outputs": [],
            "metadata": {}
        },
        {
            "cell_type": "code",
            "execution_count": 65,
            "source": [
                "F_diag =  np.array([[0,1.0,0,0],\n",
                "                    [-lamb*lamb,-2*lamb,0,0],\n",
                "                    [0,0,0,1.0],\n",
                "                    [0,0,-lamb*lamb,-2*lamb]\n",
                "                    ])\n",
                "L =  np.array([0,1.0,0,1.0]).reshape(-1,1) \n",
                "\n",
                "# F_diag =  np.array([[0,1.0],\n",
                "#                     [-lamb*lamb,-2*lamb]\n",
                "#                     ])\n",
                "# L =  np.array([0,1.0]).reshape(-1,1)\n",
                "\n",
                "\n",
                "Q_c = 4 * lamb**3 * variance\n",
                "Q = - Q_c* np.matmul(L,L.T).T\n",
                "Lyapunov_slover(F_diag,Q)"
            ],
            "outputs": [
                {
                    "output_type": "execute_result",
                    "data": {
                        "text/plain": [
                            "array([[ 1.00000000e+00, -1.66533454e-16,  1.00000000e+00,\n",
                            "        -1.66533454e-16],\n",
                            "       [ 0.00000000e+00,  3.00000000e+00,  0.00000000e+00,\n",
                            "         3.00000000e+00],\n",
                            "       [ 1.00000000e+00, -1.66533454e-16,  1.00000000e+00,\n",
                            "        -1.66533454e-16],\n",
                            "       [ 0.00000000e+00,  3.00000000e+00,  0.00000000e+00,\n",
                            "         3.00000000e+00]])"
                        ]
                    },
                    "metadata": {},
                    "execution_count": 65
                }
            ],
            "metadata": {}
        },
        {
            "cell_type": "code",
            "execution_count": 60,
            "source": [
                "P_inf"
            ],
            "outputs": [
                {
                    "output_type": "execute_result",
                    "data": {
                        "text/plain": [
                            "array([[ 1.00000000e+00, -1.66533454e-16],\n",
                            "       [ 0.00000000e+00,  3.00000000e+00]])"
                        ]
                    },
                    "metadata": {},
                    "execution_count": 60
                }
            ],
            "metadata": {}
        },
        {
            "cell_type": "code",
            "execution_count": 44,
            "source": [
                "P_inf"
            ],
            "outputs": [
                {
                    "output_type": "execute_result",
                    "data": {
                        "text/plain": [
                            "array([[ 1.00000000e+00,  1.00000000e+00, -1.66533454e-16,\n",
                            "        -1.66533454e-16],\n",
                            "       [ 1.00000000e+00,  1.00000000e+00, -1.66533454e-16,\n",
                            "        -1.66533454e-16],\n",
                            "       [ 0.00000000e+00,  0.00000000e+00,  3.00000000e+00,\n",
                            "         3.00000000e+00],\n",
                            "       [ 0.00000000e+00,  0.00000000e+00,  3.00000000e+00,\n",
                            "         3.00000000e+00]])"
                        ]
                    },
                    "metadata": {},
                    "execution_count": 44
                }
            ],
            "metadata": {}
        },
        {
            "cell_type": "code",
            "execution_count": 16,
            "source": [
                "D=2\n",
                "L = np.concatenate([np.zeros(D),np.ones(D)]).reshape(-1,1) \n",
                "np.matmul(L,L.T)"
            ],
            "outputs": [
                {
                    "output_type": "execute_result",
                    "data": {
                        "text/plain": [
                            "array([[0., 0., 0., 0.],\n",
                            "       [0., 0., 0., 0.],\n",
                            "       [0., 0., 1., 1.],\n",
                            "       [0., 0., 1., 1.]])"
                        ]
                    },
                    "metadata": {},
                    "execution_count": 16
                }
            ],
            "metadata": {}
        }
    ],
    "metadata": {
        "interpreter": {
            "hash": "0e2c091a91198da3c83fa5f5fdee90d73e538d52511d9a8da7d554d565cda77a"
        },
        "kernelspec": {
            "name": "python3",
            "display_name": "Python 3.9.6 64-bit ('pytorch_gpu': conda)"
        },
        "language_info": {
            "codemirror_mode": {
                "name": "ipython",
                "version": 3
            },
            "file_extension": ".py",
            "mimetype": "text/x-python",
            "name": "python",
            "nbconvert_exporter": "python",
            "pygments_lexer": "ipython3",
            "version": "3.9.6"
        },
        "orig_nbformat": 4
    },
    "nbformat": 4,
    "nbformat_minor": 2
}