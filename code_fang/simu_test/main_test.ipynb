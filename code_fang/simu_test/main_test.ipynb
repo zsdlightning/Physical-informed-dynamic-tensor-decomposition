{
    "cells": [
        {
            "cell_type": "code",
            "execution_count": 1,
            "metadata": {},
            "outputs": [],
            "source": [
                "import numpy as np\n",
                "import scipy\n",
                "import pandas\n",
                "import torch\n",
                "\n"
            ]
        },
        {
            "cell_type": "code",
            "execution_count": 2,
            "metadata": {},
            "outputs": [],
            "source": [
                "data_file = '../../../data/Beijing/4x6x12x6/beijing_15k.npy'\n",
                "data = np.load(data_file, allow_pickle=True).item()\n",
                "nvec = data['ndims']\n",
                "data = data['data']\n",
                "\n",
                "fold=0\n",
                "ind = data[fold]['tr_ind']\n",
                "t = data[fold]['tr_T']\n",
                "y = data[fold]['tr_y'].astype(np.float32)\n",
                "ind_te = data[fold]['te_ind']\n",
                "t_te = data[fold]['te_T']\n",
                "y_te = data[fold]['te_y'].astype(np.float32)"
            ]
        },
        {
            "cell_type": "code",
            "execution_count": 3,
            "metadata": {},
            "outputs": [],
            "source": [
                "num_node = np.sum(nvec)\n",
                "\n",
                "def generate_mask( ind):\n",
                "    mask = torch.zeros((num_node, num_node), device=device)\n",
                "    for i in range(1, nmod):\n",
                "        row = np.sum(nvec[:i])\n",
                "        for j in range(i):\n",
                "            col = np.sum(nvec[:j])\n",
                "            indij = ind[:, [i, j]]\n",
                "            indij = torch.unique(indij, dim=0).long()\n",
                "            row_idx = row + indij[:, 0]\n",
                "            col_idx = col + indij[:, 1]\n",
                "            mask[row_idx.long(), col_idx.long()] = 1\n",
                "    return mask"
            ]
        },
        {
            "cell_type": "code",
            "execution_count": null,
            "metadata": {},
            "outputs": [],
            "source": []
        }
    ],
    "metadata": {
        "interpreter": {
            "hash": "7c4df4a0713aae2685eda7b2d5f89f8c8a8cab8de304f30968b8586ac38d4a4f"
        },
        "kernelspec": {
            "display_name": "Python 3.9.6 ('pt1.9')",
            "language": "python",
            "name": "python3"
        },
        "language_info": {
            "codemirror_mode": {
                "name": "ipython",
                "version": 3
            },
            "file_extension": ".py",
            "mimetype": "text/x-python",
            "name": "python",
            "nbconvert_exporter": "python",
            "pygments_lexer": "ipython3",
            "version": "3.9.6"
        },
        "orig_nbformat": 4
    },
    "nbformat": 4,
    "nbformat_minor": 2
}
