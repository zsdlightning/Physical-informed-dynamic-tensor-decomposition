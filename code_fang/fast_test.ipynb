{
    "cells": [
        {
            "cell_type": "code",
            "execution_count": 6,
            "source": [
                "import numpy as numpy\n",
                "import torch \n",
                "from model_dynamic_CP import LDS_dynammic_CP\n",
                "import utils\n",
                "import tqdm\n",
                "import yaml\n",
                "\n",
                "path = \"base.yaml\"\n",
                "with open(path, \"r\") as f:\n",
                "    config = yaml.safe_load(f)\n",
                "\n",
                "# data_file = '../processed_data/beijing_15k.npy'\n",
                "data_file = '../processed_data/mvlens_10k.npy'\n",
                "\n",
                "hyper_dict = utils.make_hyper_dict(config)\n",
                "data_dict = utils.make_data_dict(hyper_dict,data_file)\n",
                "\n",
                "model = LDS_dynammic_CP(hyper_dict, data_dict)"
            ],
            "outputs": [
                {
                    "output_type": "stream",
                    "name": "stdout",
                    "text": [
                        "use device: cpu\n"
                    ]
                }
            ],
            "metadata": {}
        },
        {
            "cell_type": "code",
            "execution_count": 16,
            "source": [
                "# mode = 0\n",
                "# model.LDS_list[mode].reset_list()\n",
                "\n",
                "# for k in range(model.N_time):\n",
                "\n",
                "#     # update model.msg_U_M, model.msg_U_V : compute Ez, Ez2, get \\beta, S, emseble to long vec msg_U\n",
                "#     model.msg_update_U(mode, k)\n",
                "\n",
                "#     # Kalman Filter: predict and update\n",
                "#     model.LDS_list[mode].filter_predict(ind=k)\n",
                "#     model.LDS_list[mode].filter_update(y=model.msg_U_M, R=model.msg_U_V)\n",
                "\n",
                "# model.LDS_list[mode].smooth()\n",
                "# model.post_update_U(mode)"
            ],
            "outputs": [],
            "metadata": {}
        },
        {
            "cell_type": "code",
            "execution_count": 7,
            "source": [
                "for i in tqdm.tqdm(range(30)):\n",
                "\n",
                "    for mode in range(model.nmods):\n",
                "\n",
                "        model.LDS_list[mode].reset_list()\n",
                "        \n",
                "        for k in range(model.N_time):\n",
                "\n",
                "            # update model.msg_U_M, model.msg_U_V : compute Ez, Ez2, get \\beta, S, emseble to long vec msg_U\n",
                "            model.msg_update_U(mode, k)\n",
                "\n",
                "            # Kalman Filter: predict and update\n",
                "            model.LDS_list[mode].filter_predict(ind=k)\n",
                "            model.LDS_list[mode].filter_update(y=model.msg_U_M, R=model.msg_U_V)\n",
                "\n",
                "        model.LDS_list[mode].smooth()\n",
                "\n",
                "        model.post_update_U(mode)\n",
                "\n",
                "    test_result = model.model_test(model.ind_te, model.y_te, model.test_time_ind).cpu().numpy()\n",
                "\n",
                "    print(\"epoch:\", i, 'test-rmse:',test_result)"
            ],
            "outputs": [
                {
                    "output_type": "stream",
                    "name": "stderr",
                    "text": [
                        "  0%|          | 0/30 [00:00<?, ?it/s]"
                    ]
                }
            ],
            "metadata": {}
        },
        {
            "cell_type": "code",
            "execution_count": 8,
            "source": [
                "model.post_U_m[2]"
            ],
            "outputs": [
                {
                    "output_type": "execute_result",
                    "data": {
                        "text/plain": [
                            "tensor([[[[ 5.1251e-03,  5.0288e-03,  4.9276e-03,  ..., -4.9635e-04,\n",
                            "           -3.7468e-04, -2.5580e-04]],\n",
                            "\n",
                            "         [[ 8.8006e-03,  8.6875e-03,  8.5687e-03,  ...,  2.4943e-04,\n",
                            "            1.3882e-04,  3.0789e-05]]],\n",
                            "\n",
                            "\n",
                            "        [[[ 6.2479e-03,  6.1392e-03,  6.0250e-03,  ...,  1.5002e-04,\n",
                            "            1.5778e-04,  1.6534e-04]],\n",
                            "\n",
                            "         [[ 6.8264e-03,  6.7113e-03,  6.5906e-03,  ..., -2.8678e-04,\n",
                            "           -3.3470e-04, -3.8145e-04]]],\n",
                            "\n",
                            "\n",
                            "        [[[ 6.5536e-03,  6.4386e-03,  6.3181e-03,  ...,  2.8377e-04,\n",
                            "            2.9791e-04,  3.1167e-04]],\n",
                            "\n",
                            "         [[ 7.1047e-03,  6.9885e-03,  6.8667e-03,  ..., -2.2384e-04,\n",
                            "           -2.5410e-04, -2.8363e-04]]],\n",
                            "\n",
                            "\n",
                            "        ...,\n",
                            "\n",
                            "\n",
                            "        [[[ 5.4756e-03,  5.3760e-03,  5.2714e-03,  ...,  7.3272e-05,\n",
                            "            1.8894e-04,  3.0186e-04]],\n",
                            "\n",
                            "         [[ 6.7351e-03,  6.6200e-03,  6.4993e-03,  ..., -3.7380e-04,\n",
                            "           -4.6509e-04, -5.5417e-04]]],\n",
                            "\n",
                            "\n",
                            "        [[[ 5.5856e-03,  5.4909e-03,  5.3913e-03,  ...,  6.2971e-05,\n",
                            "            4.9768e-05,  3.6863e-05]],\n",
                            "\n",
                            "         [[ 5.1121e-03,  5.0246e-03,  4.9324e-03,  ..., -1.8879e-04,\n",
                            "           -1.8888e-04, -1.8894e-04]]],\n",
                            "\n",
                            "\n",
                            "        [[[ 5.4770e-03,  5.3781e-03,  5.2741e-03,  ..., -3.5045e-04,\n",
                            "           -1.8181e-04, -1.7093e-05]],\n",
                            "\n",
                            "         [[ 1.6586e-02,  1.6361e-02,  1.6126e-02,  ...,  7.7211e-05,\n",
                            "           -6.8457e-05, -2.1070e-04]]]], device='cuda:0', dtype=torch.float64)"
                        ]
                    },
                    "metadata": {},
                    "execution_count": 8
                }
            ],
            "metadata": {}
        },
        {
            "cell_type": "code",
            "execution_count": 11,
            "source": [
                "model.msg_U_M\n"
            ],
            "outputs": [
                {
                    "output_type": "execute_result",
                    "data": {
                        "text/plain": [
                            "tensor([[ 0.0000e+00],\n",
                            "        [ 0.0000e+00],\n",
                            "        [ 0.0000e+00],\n",
                            "        [ 0.0000e+00],\n",
                            "        [ 0.0000e+00],\n",
                            "        [ 0.0000e+00],\n",
                            "        [ 0.0000e+00],\n",
                            "        [ 0.0000e+00],\n",
                            "        [ 0.0000e+00],\n",
                            "        [ 0.0000e+00],\n",
                            "        [ 1.1809e-05],\n",
                            "        [ 4.0384e-06],\n",
                            "        [ 0.0000e+00],\n",
                            "        [ 0.0000e+00],\n",
                            "        [ 0.0000e+00],\n",
                            "        [ 0.0000e+00],\n",
                            "        [ 0.0000e+00],\n",
                            "        [ 0.0000e+00],\n",
                            "        [ 0.0000e+00],\n",
                            "        [ 0.0000e+00],\n",
                            "        [-1.0967e-06],\n",
                            "        [ 8.2535e-07],\n",
                            "        [ 0.0000e+00],\n",
                            "        [ 0.0000e+00]], device='cuda:0')"
                        ]
                    },
                    "metadata": {},
                    "execution_count": 11
                }
            ],
            "metadata": {}
        },
        {
            "cell_type": "code",
            "execution_count": 11,
            "source": [
                "test_result.cpu().numpy()"
            ],
            "outputs": [
                {
                    "output_type": "execute_result",
                    "data": {
                        "text/plain": [
                            "array(0.95424135)"
                        ]
                    },
                    "metadata": {},
                    "execution_count": 11
                }
            ],
            "metadata": {}
        },
        {
            "cell_type": "code",
            "execution_count": 7,
            "source": [
                "import numpy as np\n",
                "a = np.zeros((2,2))\n",
                "len(a.shape)"
            ],
            "outputs": [
                {
                    "output_type": "execute_result",
                    "data": {
                        "text/plain": [
                            "2"
                        ]
                    },
                    "metadata": {},
                    "execution_count": 7
                }
            ],
            "metadata": {}
        }
    ],
    "metadata": {
        "orig_nbformat": 4,
        "language_info": {
            "name": "python",
            "version": "3.9.7",
            "mimetype": "text/x-python",
            "codemirror_mode": {
                "name": "ipython",
                "version": 3
            },
            "pygments_lexer": "ipython3",
            "nbconvert_exporter": "python",
            "file_extension": ".py"
        },
        "kernelspec": {
            "name": "python3",
            "display_name": "Python 3.9.7 64-bit ('pytorch_1.10.1': conda)"
        },
        "interpreter": {
            "hash": "c2b9b245c32fdd00062c065bea1c6c406b1fa841caa084ac758573a37ef3ce19"
        }
    },
    "nbformat": 4,
    "nbformat_minor": 2
}