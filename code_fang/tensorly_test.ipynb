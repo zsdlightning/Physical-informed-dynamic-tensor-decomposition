{
 "cells": [
  {
   "cell_type": "code",
   "execution_count": 2,
   "metadata": {},
   "outputs": [],
   "source": [
    "# use numpy as backend, you can switch to torch if needed \n",
    "import numpy as np\n",
    "import tensorly as tl\n",
    "tl.set_backend('numpy')\n",
    "from tensorly.testing import assert_array_equal"
   ]
  },
  {
   "cell_type": "code",
   "execution_count": 4,
   "metadata": {},
   "outputs": [
    {
     "name": "stdout",
     "output_type": "stream",
     "text": [
      "* original tensor:\n",
      "[[[ 0  1]\n",
      "  [ 2  3]\n",
      "  [ 4  5]\n",
      "  [ 6  7]]\n",
      "\n",
      " [[ 8  9]\n",
      "  [10 11]\n",
      "  [12 13]\n",
      "  [14 15]]\n",
      "\n",
      " [[16 17]\n",
      "  [18 19]\n",
      "  [20 21]\n",
      "  [22 23]]]\n"
     ]
    }
   ],
   "source": [
    "tensor = tl.tensor(np.arange(24).reshape((3, 4, 2)))\n",
    "print('* original tensor:\\n{}'.format(tensor))"
   ]
  },
  {
   "cell_type": "code",
   "execution_count": 8,
   "metadata": {},
   "outputs": [
    {
     "name": "stdout",
     "output_type": "stream",
     "text": [
      "* mode-0 unfolding:\n",
      "[[ 0  1  2  3  4  5  6  7]\n",
      " [ 8  9 10 11 12 13 14 15]\n",
      " [16 17 18 19 20 21 22 23]]\n",
      "* mode-1 unfolding:\n",
      "[[ 0  1  8  9 16 17]\n",
      " [ 2  3 10 11 18 19]\n",
      " [ 4  5 12 13 20 21]\n",
      " [ 6  7 14 15 22 23]]\n",
      "* mode-2 unfolding:\n",
      "[[ 0  2  4  6  8 10 12 14 16 18 20 22]\n",
      " [ 1  3  5  7  9 11 13 15 17 19 21 23]]\n"
     ]
    }
   ],
   "source": [
    "# unfold and fold operator\n",
    "\n",
    "for mode in range(tensor.ndim):\n",
    "    print('* mode-{} unfolding:\\n{}'.format(mode, tl.unfold(tensor, mode)))\n",
    "\n",
    "for mode in range(tensor.ndim):\n",
    "    unfolding = tl.unfold(tensor, mode)\n",
    "    folded = tl.fold(unfolding, mode, tensor.shape)\n",
    "    \n",
    "    # if not equal, will raise AssertionError \n",
    "    assert_array_equal(folded, tensor)\n",
    "        "
   ]
  },
  {
   "cell_type": "code",
   "execution_count": 12,
   "metadata": {},
   "outputs": [
    {
     "name": "stdout",
     "output_type": "stream",
     "text": [
      "* tensor to vector, result:\n",
      "[ 0  1  2  3  4  5  6  7  8  9 10 11 12 13 14 15 16 17 18 19 20 21 22 23]\n",
      "*vector to tensor, result:\n",
      "[[[ 0  1]\n",
      "  [ 2  3]\n",
      "  [ 4  5]\n",
      "  [ 6  7]]\n",
      "\n",
      " [[ 8  9]\n",
      "  [10 11]\n",
      "  [12 13]\n",
      "  [14 15]]\n",
      "\n",
      " [[16 17]\n",
      "  [18 19]\n",
      "  [20 21]\n",
      "  [22 23]]]\n"
     ]
    }
   ],
   "source": [
    "# tensor-2-vec and vector-2-tensor operator\n",
    "tensor_2_vec = tl.tensor_to_vec(tensor)\n",
    "print('* tensor to vector, result:\\n{}'.format(tensor_2_vec))\n",
    "\n",
    "\n",
    "vec_2_tensor = tl.vec_to_tensor(tensor_2_vec,tensor.shape)\n",
    "print('*vector to tensor, result:\\n{}'.format(vec_2_tensor))"
   ]
  }
 ],
 "metadata": {
  "kernelspec": {
   "display_name": "Python 3.9.7 ('pytorch_1.10.1')",
   "language": "python",
   "name": "python3"
  },
  "language_info": {
   "codemirror_mode": {
    "name": "ipython",
    "version": 3
   },
   "file_extension": ".py",
   "mimetype": "text/x-python",
   "name": "python",
   "nbconvert_exporter": "python",
   "pygments_lexer": "ipython3",
   "version": "3.9.7"
  },
  "orig_nbformat": 4,
  "vscode": {
   "interpreter": {
    "hash": "4adb47148028defd32b9bf0fd4ba8fab9423764bcb932d46181929557b860185"
   }
  }
 },
 "nbformat": 4,
 "nbformat_minor": 2
}
