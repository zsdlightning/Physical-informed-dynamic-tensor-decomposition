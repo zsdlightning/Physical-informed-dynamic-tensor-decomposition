{
    "cells": [
        {
            "cell_type": "code",
            "execution_count": 7,
            "metadata": {},
            "outputs": [],
            "source": [
                "import numpy as np\n",
                "import scipy\n",
                "# import pandas\n",
                "import torch\n",
                "import utils\n",
                "from utils import generate_state_space_Matern_23\n",
                "from scipy import linalg\n",
                "from utils import build_id_key_table\n",
                "from model_Bayes_diffusion import Bayes_diffu_tensor\n",
                "import tqdm\n",
                "\n",
                "data_file = '../processed_data/beijing_15k.npy'\n",
                "full_data = np.load(data_file, allow_pickle=True).item()\n",
                "\n",
                "fold=0\n",
                "\n",
                "# here should add one more data-loader class\n",
                "data_dict = full_data['data'][fold]\n",
                "data_dict['ndims'] = full_data['ndims']\n",
                "data_dict['num_node'] = full_data['num_node']\n",
                "\n",
                "data_dict['time_id_table'] = full_data['time_id_table']\n",
                "data_dict['time_uni'] = full_data['time_uni']\n",
                "\n",
                "\n",
                "hyper_dict={}\n",
                "\n",
                "hyper_dict['epoch'] = 2\n",
                "hyper_dict['ls'] = 0.5\n",
                "hyper_dict['var'] = 0.1\n",
                "hyper_dict['device'] = torch.device(\"cpu\")\n",
                "hyper_dict['R_U'] = 3 # dim of each node embedding\n",
                "hyper_dict['c'] = 1.0 # diffusion rate\n",
                "hyper_dict['a0']=1.0\n",
                "hyper_dict['b0']=1.0\n",
                "\n",
                "\n",
                "F,P_inf = utils.generate_state_space_Matern_23(data_dict,hyper_dict)\n",
                "\n",
                "data_dict['F'] = F\n",
                "data_dict['P_inf'] = P_inf"
            ]
        },
        {
            "cell_type": "code",
            "execution_count": 8,
            "metadata": {},
            "outputs": [
                {
                    "name": "stderr",
                    "output_type": "stream",
                    "text": [
                        "100%|██████████| 2/2 [00:22<00:00, 11.10s/it]\n"
                    ]
                }
            ],
            "source": [
                "N_T = len(data_dict['time_uni'])\n",
                "\n",
                "model = Bayes_diffu_tensor(data_dict,hyper_dict)\n",
                "\n",
                "# T=2\n",
                "# model.msg_update_U_llk_del(T)\n",
                "# model.msg_update_U_llk(T)\n",
                "\n",
                "# model.msg_update_U_trans_del(T)\n",
                "# model.msg_update_U_trans(T,mode='forward')\n",
                "\n",
                "# model.msg_update_U_trans(T,mode='backward')\n",
                "\n",
                "for epoch in tqdm.tqdm(range(hyper_dict['epoch'])):\n",
                "    # forward\n",
                "    for T in range(N_T):\n",
                "        model.msg_update_U_llk_del(T)\n",
                "        model.msg_update_U_llk(T)\n",
                "\n",
                "        model.msg_update_U_trans_del(T)\n",
                "\n",
                "        if T<N_T-1:\n",
                "            model.msg_update_U_trans_vec(T,mode='forward')\n",
                "            # model.msg_update_U_trans(T,mode='forward')\n",
                "\n",
                "    # backward \n",
                "    for T in reversed(range(N_T-1)):\n",
                "        \n",
                "        # model.msg_update_U_trans(T,mode='backward')\n",
                "        model.msg_update_U_trans_vec(T,mode='backward')\n",
                "\n",
                "        model.msg_update_U_llk_del(T)\n",
                "        model.msg_update_U_llk(T)\n",
                "\n",
                "        model.msg_update_U_trans_del(T)"
            ]
        }
    ],
    "metadata": {
        "interpreter": {
            "hash": "0e2c091a91198da3c83fa5f5fdee90d73e538d52511d9a8da7d554d565cda77a"
        },
        "kernelspec": {
            "display_name": "Python 3.9.6 64-bit ('pytorch_gpu': conda)",
            "name": "python3"
        },
        "language_info": {
            "codemirror_mode": {
                "name": "ipython",
                "version": 3
            },
            "file_extension": ".py",
            "mimetype": "text/x-python",
            "name": "python",
            "nbconvert_exporter": "python",
            "pygments_lexer": "ipython3",
            "version": "3.7.11"
        },
        "orig_nbformat": 4
    },
    "nbformat": 4,
    "nbformat_minor": 2
}
