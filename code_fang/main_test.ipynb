{
    "cells": [
        {
            "cell_type": "code",
            "execution_count": 1,
            "source": [
                "import numpy as np\n",
                "import scipy\n",
                "import pandas\n",
                "import torch\n",
                "import utils\n",
                "from utils import generate_state_space_Matern_23\n",
                "from scipy import linalg\n"
            ],
            "outputs": [],
            "metadata": {}
        },
        {
            "cell_type": "code",
            "execution_count": 2,
            "source": [
                "data_file = '../processed_data/beijing_15k.npy'\n",
                "data_dict = np.load(data_file, allow_pickle=True).item()\n",
                "\n",
                "fold=0\n",
                "\n",
                "# here should add one more data-loader\n",
                "\n",
                "hyper_dict={}\n",
                "hyper_dict['ls'] = 0.5\n",
                "hyper_dict['var'] = 0.1\n",
                "hyper_dict['device'] = torch.device(\"cpu\")\n",
                "hyper_dict['R_U'] = 5 # dim of each node embedding\n",
                "\n",
                "F,P_inf = utils.generate_state_space_Matern_23(data_dict,hyper_dict,fold)"
            ],
            "outputs": [],
            "metadata": {}
        },
        {
            "cell_type": "code",
            "execution_count": null,
            "source": [
                "# data process:\n",
                "\n",
                "class Bayes_diff_tensor():\n",
                "    def __init__(self,data_dict,hyper_dict):\n",
                "\n",
                "        # training data\n",
                "        self.ind_tr = data_dict['ind_tr']\n",
                "        self.y_tr = data_dict['y_tr'].to(self.device) # N*1\n",
                "        \n",
                "        self.train_time_ind =data_dict['train_time_ind'] \n",
                "        self.test_time_ind = data_dict['test_time_ind']   \n",
                "        self.N_time = data_dict['N_time'] \n",
                "        self.time_data_table = data_dict['time_data_table']"
            ],
            "outputs": [],
            "metadata": {}
        },
        {
            "cell_type": "code",
            "execution_count": 3,
            "source": [
                "F,P_inf = utils.generate_state_space_Matern_23(data_dict,hyper_dict,fold)\n",
                "\n"
            ],
            "outputs": [],
            "metadata": {}
        },
        {
            "cell_type": "code",
            "execution_count": 5,
            "source": [],
            "outputs": [
                {
                    "output_type": "execute_result",
                    "data": {
                        "text/plain": [
                            "tensor([[ 6.1316e-03,  3.1644e-03,  3.1488e-03,  ..., -1.0340e-03,\n",
                            "         -9.2864e-04, -9.7887e-04],\n",
                            "        [ 3.1644e-03,  6.4374e-03,  3.1514e-03,  ..., -1.0340e-03,\n",
                            "         -9.2855e-04, -9.7886e-04],\n",
                            "        [ 3.1488e-03,  3.1514e-03,  6.8081e-03,  ..., -9.8918e-04,\n",
                            "         -8.7936e-04, -9.3269e-04],\n",
                            "        ...,\n",
                            "        [-1.0340e-03, -1.0340e-03, -9.8918e-04,  ...,  1.1276e+00,\n",
                            "          3.8169e-03,  3.7441e-03],\n",
                            "        [-9.2864e-04, -9.2855e-04, -8.7936e-04,  ...,  3.8169e-03,\n",
                            "          1.1220e+00,  3.7852e-03],\n",
                            "        [-9.7887e-04, -9.7886e-04, -9.3269e-04,  ...,  3.7441e-03,\n",
                            "          3.7852e-03,  1.1249e+00]], dtype=torch.float64)"
                        ]
                    },
                    "metadata": {},
                    "execution_count": 5
                }
            ],
            "metadata": {}
        },
        {
            "cell_type": "code",
            "execution_count": 10,
            "source": [
                "for item in list(np.unique(data_dict['t_te'])):\n",
                "    if item not in list(np.unique(data_dict['t'])):\n",
                "        print('no')"
            ],
            "outputs": [],
            "metadata": {}
        },
        {
            "cell_type": "code",
            "execution_count": 9,
            "source": [
                "0.0 in list(np.unique(data_dict['t']))"
            ],
            "outputs": [
                {
                    "output_type": "execute_result",
                    "data": {
                        "text/plain": [
                            "True"
                        ]
                    },
                    "metadata": {},
                    "execution_count": 9
                }
            ],
            "metadata": {}
        },
        {
            "cell_type": "code",
            "execution_count": null,
            "source": [],
            "outputs": [],
            "metadata": {}
        }
    ],
    "metadata": {
        "interpreter": {
            "hash": "0e2c091a91198da3c83fa5f5fdee90d73e538d52511d9a8da7d554d565cda77a"
        },
        "kernelspec": {
            "name": "python3",
            "display_name": "Python 3.9.6 64-bit ('pytorch_gpu': conda)"
        },
        "language_info": {
            "codemirror_mode": {
                "name": "ipython",
                "version": 3
            },
            "file_extension": ".py",
            "mimetype": "text/x-python",
            "name": "python",
            "nbconvert_exporter": "python",
            "pygments_lexer": "ipython3",
            "version": "3.9.6"
        },
        "orig_nbformat": 4
    },
    "nbformat": 4,
    "nbformat_minor": 2
}