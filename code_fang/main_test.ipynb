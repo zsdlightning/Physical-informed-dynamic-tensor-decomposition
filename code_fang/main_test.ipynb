{
    "cells": [
        {
            "cell_type": "code",
            "execution_count": 1,
            "source": [
                "import numpy as np\n",
                "import scipy\n",
                "import pandas\n",
                "import torch\n",
                "import utils\n",
                "from utils import generate_state_space_Matern_23\n",
                "from scipy import linalg\n"
            ],
            "outputs": [],
            "metadata": {}
        },
        {
            "cell_type": "code",
            "execution_count": 2,
            "source": [
                "data_file = '../../../data/Beijing/4x6x12x6/beijing_15k.npy'\n",
                "data = np.load(data_file, allow_pickle=True).item()\n",
                "nvec = data['ndims']\n",
                "data = data['data']\n",
                "\n",
                "data_dict = {}\n",
                "\n",
                "fold=0\n",
                "data_dict['ind'] = torch.tensor(data[fold]['tr_ind'])\n",
                "data_dict['t'] = data[fold]['tr_T']\n",
                "data_dict['y'] = data[fold]['tr_y'].astype(np.float32)\n",
                "data_dict['ind_te'] = data[fold]['te_ind']\n",
                "data_dict['t_te'] = data[fold]['te_T']\n",
                "data_dict['y_te'] = data[fold]['te_y'].astype(np.float32)\n",
                "data_dict['ndims'] = nvec\n",
                "data_dict['num_node'] = np.sum(nvec)\n",
                "data_dict['nmod'] = len(nvec)\n",
                "data_dict['device'] = torch.device(\"cpu\")\n",
                "\n",
                "hyper_dict={}\n",
                "hyper_dict['ls'] = 0.5\n",
                "hyper_dict['var'] = 0.1\n"
            ],
            "outputs": [],
            "metadata": {}
        },
        {
            "cell_type": "code",
            "execution_count": 15,
            "source": [
                "data = np.load(data_file, allow_pickle=True).item()\n",
                "len(data['data'])"
            ],
            "outputs": [
                {
                    "output_type": "execute_result",
                    "data": {
                        "text/plain": [
                            "5"
                        ]
                    },
                    "metadata": {},
                    "execution_count": 15
                }
            ],
            "metadata": {}
        },
        {
            "cell_type": "code",
            "execution_count": null,
            "source": [
                "# data process:\n"
            ],
            "outputs": [],
            "metadata": {}
        },
        {
            "cell_type": "code",
            "execution_count": 3,
            "source": [
                "F,P_inf = utils.generate_state_space_Matern_23(data_dict,hyper_dict)\n",
                "\n"
            ],
            "outputs": [],
            "metadata": {}
        },
        {
            "cell_type": "code",
            "execution_count": 10,
            "source": [
                "for item in list(np.unique(data_dict['t_te'])):\n",
                "    if item not in list(np.unique(data_dict['t'])):\n",
                "        print('no')"
            ],
            "outputs": [],
            "metadata": {}
        },
        {
            "cell_type": "code",
            "execution_count": 9,
            "source": [
                "0.0 in list(np.unique(data_dict['t']))"
            ],
            "outputs": [
                {
                    "output_type": "execute_result",
                    "data": {
                        "text/plain": [
                            "True"
                        ]
                    },
                    "metadata": {},
                    "execution_count": 9
                }
            ],
            "metadata": {}
        },
        {
            "cell_type": "code",
            "execution_count": null,
            "source": [],
            "outputs": [],
            "metadata": {}
        }
    ],
    "metadata": {
        "interpreter": {
            "hash": "0e2c091a91198da3c83fa5f5fdee90d73e538d52511d9a8da7d554d565cda77a"
        },
        "kernelspec": {
            "name": "python3",
            "display_name": "Python 3.9.6 64-bit ('pytorch_gpu': conda)"
        },
        "language_info": {
            "codemirror_mode": {
                "name": "ipython",
                "version": 3
            },
            "file_extension": ".py",
            "mimetype": "text/x-python",
            "name": "python",
            "nbconvert_exporter": "python",
            "pygments_lexer": "ipython3",
            "version": "3.9.6"
        },
        "orig_nbformat": 4
    },
    "nbformat": 4,
    "nbformat_minor": 2
}