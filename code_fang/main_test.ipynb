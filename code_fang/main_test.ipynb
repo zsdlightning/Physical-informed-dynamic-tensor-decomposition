{
 "cells": [
  {
   "cell_type": "code",
   "execution_count": 1,
   "metadata": {},
   "outputs": [],
   "source": [
    "import os\n",
    "os.environ[\"KMP_DUPLICATE_LIB_OK\"]=\"TRUE\"\n",
    "import numpy as np\n",
    "import scipy\n",
    "# import pandas\n",
    "import torch\n",
    "import utils\n",
    "from utils import generate_state_space_Matern_23\n",
    "from scipy import linalg\n",
    "from utils import build_id_key_table\n",
    "from model_Bayes_diffusion import Bayes_diffu_tensor\n",
    "import tqdm\n",
    "\n",
    "data_file = '../processed_data/beijing_15k.npy'\n",
    "full_data = np.load(data_file, allow_pickle=True).item()\n",
    "\n",
    "fold=0\n",
    "\n",
    "# here should add one more data-loader class\n",
    "data_dict = full_data['data'][fold]\n",
    "data_dict['ndims'] = full_data['ndims']\n",
    "data_dict['num_node'] = full_data['num_node']\n",
    "\n",
    "data_dict['time_id_table'] = full_data['time_id_table']\n",
    "data_dict['time_uni'] = full_data['time_uni']\n",
    "\n",
    "\n",
    "hyper_dict={}\n",
    "\n",
    "hyper_dict['epoch'] = 2\n",
    "hyper_dict['ls'] = 0.5\n",
    "hyper_dict['var'] = 0.1\n",
    "hyper_dict['device'] = torch.device(\"cpu\")\n",
    "hyper_dict['R_U'] = 2 # dim of each node embedding\n",
    "hyper_dict['c'] = 0.1 # diffusion rate\n",
    "hyper_dict['a0']=1.0\n",
    "hyper_dict['b0']=1.0\n",
    "\n",
    "\n",
    "F,P_inf = utils.generate_state_space_Matern_23(data_dict,hyper_dict)\n",
    "\n",
    "data_dict['F'] = F\n",
    "data_dict['P_inf'] = P_inf"
   ]
  },
  {
   "cell_type": "code",
   "execution_count": null,
   "metadata": {},
   "outputs": [],
   "source": []
  },
  {
   "cell_type": "code",
   "execution_count": 2,
   "metadata": {},
   "outputs": [
    {
     "name": "stdout",
     "output_type": "stream",
     "text": [
      "init state: test_rmse: 1.0214 \n"
     ]
    },
    {
     "name": "stderr",
     "output_type": "stream",
     "text": [
      "  0%|          | 0/1 [00:00<?, ?it/s]\n"
     ]
    },
    {
     "ename": "ValueError",
     "evalue": "The parameter loc has invalid values",
     "output_type": "error",
     "traceback": [
      "\u001b[1;31m---------------------------------------------------------------------------\u001b[0m",
      "\u001b[1;31mValueError\u001b[0m                                Traceback (most recent call last)",
      "\u001b[1;32m~\\AppData\\Local\\Temp/ipykernel_40536/2608766669.py\u001b[0m in \u001b[0;36m<module>\u001b[1;34m\u001b[0m\n\u001b[0;32m     19\u001b[0m             \u001b[0mmodel\u001b[0m\u001b[1;33m.\u001b[0m\u001b[0mmsg_update_U_trans_del\u001b[0m\u001b[1;33m(\u001b[0m\u001b[0mT\u001b[0m\u001b[1;33m,\u001b[0m\u001b[0mmode\u001b[0m\u001b[1;33m=\u001b[0m\u001b[1;34m'forward'\u001b[0m\u001b[1;33m)\u001b[0m\u001b[1;33m\u001b[0m\u001b[1;33m\u001b[0m\u001b[0m\n\u001b[0;32m     20\u001b[0m             \u001b[1;31m# model.msg_update_U_trans_del(T,mode='backward')\u001b[0m\u001b[1;33m\u001b[0m\u001b[1;33m\u001b[0m\u001b[1;33m\u001b[0m\u001b[0m\n\u001b[1;32m---> 21\u001b[1;33m             \u001b[0mmodel\u001b[0m\u001b[1;33m.\u001b[0m\u001b[0mmsg_update_U_trans_vec\u001b[0m\u001b[1;33m(\u001b[0m\u001b[0mT\u001b[0m\u001b[1;33m,\u001b[0m\u001b[0mmode\u001b[0m\u001b[1;33m=\u001b[0m\u001b[1;34m'forward'\u001b[0m\u001b[1;33m)\u001b[0m\u001b[1;33m\u001b[0m\u001b[1;33m\u001b[0m\u001b[0m\n\u001b[0m\u001b[0;32m     22\u001b[0m             \u001b[1;31m# model.msg_update_U_trans(T,mode='forward')\u001b[0m\u001b[1;33m\u001b[0m\u001b[1;33m\u001b[0m\u001b[1;33m\u001b[0m\u001b[0m\n\u001b[0;32m     23\u001b[0m \u001b[1;33m\u001b[0m\u001b[0m\n",
      "\u001b[1;32mc:\\Users\\24058\\Dropbox\\diffusion_tensor\\code_fang\\model_Bayes_diffusion.py\u001b[0m in \u001b[0;36mmsg_update_U_trans_vec\u001b[1;34m(self, T, mode)\u001b[0m\n\u001b[0;32m    398\u001b[0m \u001b[1;33m\u001b[0m\u001b[0m\n\u001b[0;32m    399\u001b[0m         \u001b[1;31m# compute log-Z\u001b[0m\u001b[1;33m\u001b[0m\u001b[1;33m\u001b[0m\u001b[1;33m\u001b[0m\u001b[0m\n\u001b[1;32m--> 400\u001b[1;33m         \u001b[0mdist\u001b[0m \u001b[1;33m=\u001b[0m \u001b[0mtorch\u001b[0m\u001b[1;33m.\u001b[0m\u001b[0mdistributions\u001b[0m\u001b[1;33m.\u001b[0m\u001b[0mmultivariate_normal\u001b[0m\u001b[1;33m.\u001b[0m\u001b[0mMultivariateNormal\u001b[0m\u001b[1;33m(\u001b[0m\u001b[0mmu\u001b[0m\u001b[1;33m,\u001b[0m \u001b[0msigma\u001b[0m\u001b[1;33m)\u001b[0m\u001b[1;33m\u001b[0m\u001b[1;33m\u001b[0m\u001b[0m\n\u001b[0m\u001b[0;32m    401\u001b[0m         \u001b[0mlog_Z_trans\u001b[0m \u001b[1;33m=\u001b[0m \u001b[0mdist\u001b[0m\u001b[1;33m.\u001b[0m\u001b[0mlog_prob\u001b[0m\u001b[1;33m(\u001b[0m\u001b[0msample\u001b[0m\u001b[1;33m)\u001b[0m\u001b[1;33m\u001b[0m\u001b[1;33m\u001b[0m\u001b[0m\n\u001b[0;32m    402\u001b[0m         \u001b[0mlog_Z_trans\u001b[0m\u001b[1;33m.\u001b[0m\u001b[0mbackward\u001b[0m\u001b[1;33m(\u001b[0m\u001b[1;33m)\u001b[0m\u001b[1;33m\u001b[0m\u001b[1;33m\u001b[0m\u001b[0m\n",
      "\u001b[1;32mG:\\anaconda\\envs\\pt1.9\\lib\\site-packages\\torch\\distributions\\multivariate_normal.py\u001b[0m in \u001b[0;36m__init__\u001b[1;34m(self, loc, covariance_matrix, precision_matrix, scale_tril, validate_args)\u001b[0m\n\u001b[0;32m    144\u001b[0m \u001b[1;33m\u001b[0m\u001b[0m\n\u001b[0;32m    145\u001b[0m         \u001b[0mevent_shape\u001b[0m \u001b[1;33m=\u001b[0m \u001b[0mself\u001b[0m\u001b[1;33m.\u001b[0m\u001b[0mloc\u001b[0m\u001b[1;33m.\u001b[0m\u001b[0mshape\u001b[0m\u001b[1;33m[\u001b[0m\u001b[1;33m-\u001b[0m\u001b[1;36m1\u001b[0m\u001b[1;33m:\u001b[0m\u001b[1;33m]\u001b[0m\u001b[1;33m\u001b[0m\u001b[1;33m\u001b[0m\u001b[0m\n\u001b[1;32m--> 146\u001b[1;33m         \u001b[0msuper\u001b[0m\u001b[1;33m(\u001b[0m\u001b[0mMultivariateNormal\u001b[0m\u001b[1;33m,\u001b[0m \u001b[0mself\u001b[0m\u001b[1;33m)\u001b[0m\u001b[1;33m.\u001b[0m\u001b[0m__init__\u001b[0m\u001b[1;33m(\u001b[0m\u001b[0mbatch_shape\u001b[0m\u001b[1;33m,\u001b[0m \u001b[0mevent_shape\u001b[0m\u001b[1;33m,\u001b[0m \u001b[0mvalidate_args\u001b[0m\u001b[1;33m=\u001b[0m\u001b[0mvalidate_args\u001b[0m\u001b[1;33m)\u001b[0m\u001b[1;33m\u001b[0m\u001b[1;33m\u001b[0m\u001b[0m\n\u001b[0m\u001b[0;32m    147\u001b[0m \u001b[1;33m\u001b[0m\u001b[0m\n\u001b[0;32m    148\u001b[0m         \u001b[1;32mif\u001b[0m \u001b[0mscale_tril\u001b[0m \u001b[1;32mis\u001b[0m \u001b[1;32mnot\u001b[0m \u001b[1;32mNone\u001b[0m\u001b[1;33m:\u001b[0m\u001b[1;33m\u001b[0m\u001b[1;33m\u001b[0m\u001b[0m\n",
      "\u001b[1;32mG:\\anaconda\\envs\\pt1.9\\lib\\site-packages\\torch\\distributions\\distribution.py\u001b[0m in \u001b[0;36m__init__\u001b[1;34m(self, batch_shape, event_shape, validate_args)\u001b[0m\n\u001b[0;32m     51\u001b[0m                     \u001b[1;32mcontinue\u001b[0m  \u001b[1;31m# skip checking lazily-constructed args\u001b[0m\u001b[1;33m\u001b[0m\u001b[1;33m\u001b[0m\u001b[0m\n\u001b[0;32m     52\u001b[0m                 \u001b[1;32mif\u001b[0m \u001b[1;32mnot\u001b[0m \u001b[0mconstraint\u001b[0m\u001b[1;33m.\u001b[0m\u001b[0mcheck\u001b[0m\u001b[1;33m(\u001b[0m\u001b[0mgetattr\u001b[0m\u001b[1;33m(\u001b[0m\u001b[0mself\u001b[0m\u001b[1;33m,\u001b[0m \u001b[0mparam\u001b[0m\u001b[1;33m)\u001b[0m\u001b[1;33m)\u001b[0m\u001b[1;33m.\u001b[0m\u001b[0mall\u001b[0m\u001b[1;33m(\u001b[0m\u001b[1;33m)\u001b[0m\u001b[1;33m:\u001b[0m\u001b[1;33m\u001b[0m\u001b[1;33m\u001b[0m\u001b[0m\n\u001b[1;32m---> 53\u001b[1;33m                     \u001b[1;32mraise\u001b[0m \u001b[0mValueError\u001b[0m\u001b[1;33m(\u001b[0m\u001b[1;34m\"The parameter {} has invalid values\"\u001b[0m\u001b[1;33m.\u001b[0m\u001b[0mformat\u001b[0m\u001b[1;33m(\u001b[0m\u001b[0mparam\u001b[0m\u001b[1;33m)\u001b[0m\u001b[1;33m)\u001b[0m\u001b[1;33m\u001b[0m\u001b[1;33m\u001b[0m\u001b[0m\n\u001b[0m\u001b[0;32m     54\u001b[0m         \u001b[0msuper\u001b[0m\u001b[1;33m(\u001b[0m\u001b[0mDistribution\u001b[0m\u001b[1;33m,\u001b[0m \u001b[0mself\u001b[0m\u001b[1;33m)\u001b[0m\u001b[1;33m.\u001b[0m\u001b[0m__init__\u001b[0m\u001b[1;33m(\u001b[0m\u001b[1;33m)\u001b[0m\u001b[1;33m\u001b[0m\u001b[1;33m\u001b[0m\u001b[0m\n\u001b[0;32m     55\u001b[0m \u001b[1;33m\u001b[0m\u001b[0m\n",
      "\u001b[1;31mValueError\u001b[0m: The parameter loc has invalid values"
     ]
    }
   ],
   "source": [
    "torch.manual_seed(2)\n",
    "\n",
    "N_T = len(data_dict['time_uni'])\n",
    "\n",
    "model = Bayes_diffu_tensor(data_dict,hyper_dict)\n",
    "test_rmse = model.model_test()\n",
    "print('init state: test_rmse: %.4f '%(test_rmse))\n",
    "\n",
    "EPOCH = 1\n",
    "for epoch in tqdm.tqdm(range(EPOCH)):\n",
    "    # forward\n",
    "    for T in range(N_T):\n",
    "        model.msg_update_U_llk_del(T)\n",
    "        model.msg_update_U_llk(T)\n",
    "\n",
    "        \n",
    "\n",
    "        if T<N_T-1:\n",
    "            model.msg_update_U_trans_del(T,mode='forward')\n",
    "            # model.msg_update_U_trans_del(T,mode='backward')\n",
    "            model.msg_update_U_trans_vec(T,mode='forward')\n",
    "            # model.msg_update_U_trans(T,mode='forward')\n",
    "\n",
    "        # assert utils.nan_check_1(model,T) is True\n",
    "        # assert utils.neg_check_v(model,T) is True\n",
    "    model.msg_update_U_trans_del(N_T-1,mode='backward')\n",
    "    \n",
    "    model.post_update_U()\n",
    "    test_rmse = model.model_test()\n",
    "    print('it: %d, test_rmse: %.4f '%(epoch,test_rmse))\n",
    "    \n",
    "    # backward \n",
    "    for T in reversed(range(N_T-1)):\n",
    "        \n",
    "        # model.msg_update_U_trans(T,mode='backward')\n",
    "        model.msg_update_U_trans_vec(T,mode='backward')\n",
    "\n",
    "        model.msg_update_U_llk_del(T)\n",
    "        model.msg_update_U_llk(T)\n",
    "\n",
    "        model.msg_update_U_trans_del(T,mode='backward')\n",
    "        utils.nan_check_1(model,T)\n",
    "        \n",
    "    model.post_update_U()\n",
    "    test_rmse = model.model_test()\n",
    "    print('it: %d, test_rmse: %.4f '%(epoch,test_rmse))"
   ]
  },
  {
   "cell_type": "code",
   "execution_count": 3,
   "metadata": {},
   "outputs": [
    {
     "data": {
      "text/plain": [
       "50"
      ]
     },
     "execution_count": 3,
     "metadata": {},
     "output_type": "execute_result"
    }
   ],
   "source": [
    "T"
   ]
  },
  {
   "cell_type": "code",
   "execution_count": 4,
   "metadata": {},
   "outputs": [],
   "source": [
    "time_gap = model.time_uni[T+1] - model.time_uni[T]\n",
    "A_T_block = torch.block_diag(*([torch.matrix_exp(model.F * time_gap)]*model.R_U))\n",
    "P_inf_block = torch.block_diag(*([model.P_inf]*model.R_U))\n",
    "Q_T_block = P_inf_block - P_inf_block @ A_T_block @ P_inf_block.T\n",
    "\n",
    "msg_m_l = model.msg_U_f_m_del[:,:,T].T.reshape(-1)\n",
    "msg_v_l = model.msg_U_f_v_del[:,:,T].T.reshape(-1)\n",
    "    \n",
    "# msg from the right (from U_{T+1})\n",
    "msg_m_r = model.msg_U_b_m_del[:,:,T+1].T.reshape(-1)\n",
    "msg_v_r = model.msg_U_b_v_del[:,:,T+1].T.reshape(-1)\n",
    "\n",
    "msg_m_r.requires_grad=True \n",
    "msg_v_r.requires_grad=True \n",
    "target_m = msg_m_r\n",
    "target_v = msg_v_r\n",
    "\n",
    "mu = (A_T_block @ msg_m_l.view(-1,1)).squeeze() # num_node * 1\n",
    "sigma = torch.diag(msg_v_r) + Q_T_block + A_T_block @ torch.diag(msg_v_l) @ A_T_block.T\n",
    "sample = msg_m_r\n",
    "\n",
    "# print(sample)\n",
    "\n",
    "# compute log-Z\n",
    "dist = torch.distributions.multivariate_normal.MultivariateNormal(mu, sigma)\n",
    "log_Z_trans = dist.log_prob(sample)"
   ]
  },
  {
   "cell_type": "code",
   "execution_count": 59,
   "metadata": {},
   "outputs": [
    {
     "name": "stdout",
     "output_type": "stream",
     "text": [
      "tensor(0.6097, dtype=torch.float64)\n",
      "tensor(27.7729, dtype=torch.float64)\n",
      "tensor(2.0244, dtype=torch.float64)\n"
     ]
    }
   ],
   "source": [
    "print(model.msg_U_f_m[:30,:,46].max())\n",
    "print(model.msg_U_f_m[:30,:,47].max())\n",
    "print(model.msg_U_llk_m_del[:,:,38].abs().max())"
   ]
  },
  {
   "cell_type": "code",
   "execution_count": 26,
   "metadata": {},
   "outputs": [],
   "source": [
    "T = 46\n",
    "eind_T = model.time_data_table_tr[T] # id of observed entries at this time-stamp\n",
    "N_T = len(eind_T) \n",
    "ind_T = model.ind_tr[eind_T]\n",
    "y_T = model.y_tr[eind_T].squeeze()\n",
    "\n",
    "uid_table, _ = build_id_key_table( model.nmod,ind_T) # get the id of associated nodes\n",
    "uid_list = []\n",
    "for mode in range( model.nmod):\n",
    "    uid_list_mode = [item + sum( model.ndims[:mode]) for item in uid_table[mode]]\n",
    "    uid_list = uid_list + uid_list_mode\n",
    "uid = np.array(uid_list).astype(np.int64)\n",
    "\n",
    "# self.uid_table_T = uid_table\n",
    "# self.ind_T = ind_T\n",
    "\n",
    "U_llk_del_T = torch.cat([ model.msg_U_llk_m_del[:,:,T], model.msg_U_llk_v_del[:,:,T]]) # concat the m and v \n",
    "U_llk_del_T.requires_grad=True \n",
    "\n",
    "U_llk_del_T_m,U_llk_del_T_v =  model.arrange_U_llk(U_llk_del_T) # arrange U as mode-wise\n",
    "\n",
    "E_z_del, E_z_2_del =  model.moment_product_U_del(ind_T,U_llk_del_T_m,U_llk_del_T_v) # first and second moment of CP-pred\n",
    "\n",
    "model.msg_update_tau_del(T)\n",
    "E_tau_del =  model.msg_tau_a_del_T[T]/ model.msg_tau_b_del_T[T]\n",
    "\n",
    "log_Z = 0.5*N_T*torch.log(E_tau_del/(2*np.pi)) \\\n",
    "    -  0.5*E_tau_del* ( (y_T*y_T).sum() - 2* (y_T*E_z_del).sum() + E_z_2_del.sum())"
   ]
  },
  {
   "cell_type": "code",
   "execution_count": 33,
   "metadata": {},
   "outputs": [
    {
     "data": {
      "text/plain": [
       "[tensor([[-2.0438, -1.8718],\n",
       "         [ 0.3564,  0.5065],\n",
       "         [-0.3009, -0.0341],\n",
       "         [-3.6314, -1.0142],\n",
       "         [-1.6843, -1.7258],\n",
       "         [-2.4998, -2.8594],\n",
       "         [-1.6391, -1.1571],\n",
       "         [-2.1869, -1.7163],\n",
       "         [-1.5967, -1.6505],\n",
       "         [ 0.5131,  0.5052],\n",
       "         [-1.1689, -1.2142],\n",
       "         [-3.4670, -3.5964]], dtype=torch.float64, grad_fn=<SliceBackward>),\n",
       " tensor([[ 0.2203,  0.2832],\n",
       "         [-2.0660, -2.6955],\n",
       "         [-0.8595, -1.1216],\n",
       "         [-0.9167, -1.0435],\n",
       "         [ 0.3965,  0.3202],\n",
       "         [-0.9552, -1.1956]], dtype=torch.float64, grad_fn=<SliceBackward>),\n",
       " tensor([[-2.0017, -1.9888],\n",
       "         [-3.8004, -3.5413],\n",
       "         [-3.0486, -2.9562],\n",
       "         [-3.8260, -3.1128],\n",
       "         [-6.6637, -6.4537],\n",
       "         [-3.5730, -3.3011],\n",
       "         [-6.0867, -2.8219],\n",
       "         [-2.7000, -2.6690],\n",
       "         [-5.3401, -5.0419],\n",
       "         [-3.5458, -3.2852],\n",
       "         [-4.4689, -4.2325],\n",
       "         [-5.2201, -5.2612]], dtype=torch.float64, grad_fn=<SliceBackward>)]"
      ]
     },
     "execution_count": 33,
     "metadata": {},
     "output_type": "execute_result"
    }
   ],
   "source": [
    "U_llk_del_T_m"
   ]
  },
  {
   "cell_type": "code",
   "execution_count": 25,
   "metadata": {},
   "outputs": [
    {
     "data": {
      "text/plain": [
       "tensor([-0.4085, -0.5081, -0.3995, -0.2412], dtype=torch.float64)"
      ]
     },
     "execution_count": 25,
     "metadata": {},
     "output_type": "execute_result"
    }
   ],
   "source": [
    "y_T"
   ]
  },
  {
   "cell_type": "code",
   "execution_count": 25,
   "metadata": {},
   "outputs": [
    {
     "data": {
      "text/plain": [
       "tensor(-0.0139, dtype=torch.float64)"
      ]
     },
     "execution_count": 25,
     "metadata": {},
     "output_type": "execute_result"
    }
   ],
   "source": [
    "model.msg_U_f_m[:30,:,44].max()"
   ]
  },
  {
   "cell_type": "code",
   "execution_count": 31,
   "metadata": {},
   "outputs": [
    {
     "data": {
      "text/plain": [
       "tensor(0.9733, dtype=torch.float64)"
      ]
     },
     "execution_count": 31,
     "metadata": {},
     "output_type": "execute_result"
    }
   ],
   "source": [
    "model.msg_U_b_m[:30,:,45].max()"
   ]
  }
 ],
 "metadata": {
  "interpreter": {
   "hash": "0e2c091a91198da3c83fa5f5fdee90d73e538d52511d9a8da7d554d565cda77a"
  },
  "kernelspec": {
   "display_name": "Python 3 (ipykernel)",
   "language": "python",
   "name": "python3"
  },
  "language_info": {
   "codemirror_mode": {
    "name": "ipython",
    "version": 3
   },
   "file_extension": ".py",
   "mimetype": "text/x-python",
   "name": "python",
   "nbconvert_exporter": "python",
   "pygments_lexer": "ipython3",
   "version": "3.9.6"
  }
 },
 "nbformat": 4,
 "nbformat_minor": 2
}
