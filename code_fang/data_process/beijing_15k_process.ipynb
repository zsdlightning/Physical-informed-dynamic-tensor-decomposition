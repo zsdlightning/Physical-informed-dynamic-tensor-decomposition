{
 "cells": [
  {
   "cell_type": "code",
   "execution_count": 1,
   "source": [
    "import numpy as np\n",
    "# import torch\n",
    "import matplotlib.pyplot as plt\n",
    "import pandas as pd  "
   ],
   "outputs": [],
   "metadata": {}
  },
  {
   "cell_type": "code",
   "execution_count": 3,
   "source": [
    "data_file = '../../../data/Beijing/4x6x12x6/beijing_15k.npy'\n",
    "# data_file = '../data/'\n",
    "raw_data = np.load(data_file, allow_pickle=True).item()\n",
    "print(raw_data.get('ndims'))\n",
    "data = raw_data.get('data')\n"
   ],
   "outputs": [
    {
     "output_type": "stream",
     "name": "stdout",
     "text": [
      "[12, 6, 12]\n"
     ]
    }
   ],
   "metadata": {}
  },
  {
   "cell_type": "code",
   "execution_count": 4,
   "source": [
    "sum(raw_data.get('ndims'))"
   ],
   "outputs": [
    {
     "output_type": "execute_result",
     "data": {
      "text/plain": [
       "30"
      ]
     },
     "metadata": {},
     "execution_count": 4
    }
   ],
   "metadata": {}
  },
  {
   "cell_type": "code",
   "execution_count": 5,
   "source": [
    "fold = 0\n",
    "tr_ind = data[0]['tr_ind']\n",
    "tr_y = data[0]['tr_y']\n",
    "tr_T = data[0]['tr_T']\n",
    "\n",
    "te_ind = data[0]['te_ind']\n",
    "te_y = data[0]['te_y']\n",
    "te_T = data[0]['te_T']\n",
    "\n",
    "all_data = pd.DataFrame()\n",
    "all_ind = np.concatenate((tr_ind,te_ind))\n",
    "all_time = np.concatenate((tr_T,te_T)) # zheng has alreadly normalized the time into 0-1\n",
    "all_y = np.concatenate((tr_y,te_y))\n",
    "\n",
    "all_data['location'] = all_ind[:,0].astype(np.int64)\n",
    "all_data['pollutant'] = all_ind[:,1].astype(np.int64)\n",
    "all_data['period'] = all_ind[:,2].astype(np.int64)\n",
    "all_data['y'] = all_y.astype(float)\n",
    "all_data['time'] = all_time\n",
    "\n",
    "\n",
    "time_uni_all = np.sort(np.unique(all_time))\n",
    "time_uni_tr = np.sort(np.unique(all_time))\n",
    "\n",
    "if len(time_uni_all)==len(time_uni_tr):\n",
    "    print('no never-seen time-stamp in test data')\n",
    "else: print('exist never-seen time-stamp in test data')"
   ],
   "outputs": [
    {
     "output_type": "stream",
     "name": "stdout",
     "text": [
      "no never-seen time-stamp in test data\n"
     ]
    }
   ],
   "metadata": {}
  },
  {
   "cell_type": "code",
   "execution_count": 6,
   "source": [
    "def unique_recoding(data,colum_name):\n",
    "    # colum_name = 'movieId'\n",
    "    unique_key = np.sort(data[colum_name].unique())\n",
    "    recode_dict = {key:id for id,key in enumerate(unique_key)}\n",
    "\n",
    "    new_column = data[colum_name].apply(lambda x:recode_dict[x])\n",
    "    # data[colum_name] = new_column\n",
    "    print('ndim of %s is %d'%(colum_name,len(new_column.unique())))\n",
    "    return recode_dict, new_column\n",
    "\n",
    "def unique_recoding_array(data_array):\n",
    "    \n",
    "    unique_key = np.unique(data_array)\n",
    "    recode_dict = {key:id for id,key in enumerate(unique_key)}\n",
    "\n",
    "    new_array =  np.array(list(map(lambda x:recode_dict[x], data_array)))\n",
    "    # data[colum_name] = new_column\n",
    "    # print('ndim of %s is %d'%(colum_name,len(new_column.unique())))\n",
    "    return new_array\n",
    "\n",
    "recode_dict_globle,all_data['timestamp_disct'] = unique_recoding(all_data,'time') \n",
    "# use for baseline, where we simply encoding the timastamp as extra mode "
   ],
   "outputs": [
    {
     "output_type": "stream",
     "name": "stdout",
     "text": [
      "ndim of time is 1461\n"
     ]
    }
   ],
   "metadata": {}
  },
  {
   "cell_type": "code",
   "execution_count": 7,
   "source": [
    "data_save = {}\n",
    "data_save['ndims'] = raw_data.get('ndims')\n",
    "data_save['num_node'] = np.sum(data_save['ndims'])\n",
    "data_save['data'] = []\n",
    "data_save['time_uni'] = np.sort(np.unique(all_time)) # sorted unique timestamps of all data\n",
    "data_save['time_id_table'] = recode_dict_globle # timestamp-disct id map table\n",
    "\n",
    "for fold in range(5):\n",
    "\n",
    "    fold_data = {}\n",
    "    tr_ind = data[fold]['tr_ind']\n",
    "    tr_y = data[fold]['tr_y']\n",
    "    tr_T = data[fold]['tr_T']\n",
    "\n",
    "    te_ind = data[fold]['te_ind']\n",
    "    te_y = data[fold]['te_y']\n",
    "    te_T = data[fold]['te_T']\n",
    "\n",
    "    # we have to sort the training data by the time-stamp\n",
    "    # also sort the test data, but it's not necessary\n",
    "    tr_sort_id = np.argsort(np.squeeze(tr_T))\n",
    "    fold_data['ind_tr'] = tr_ind[tr_sort_id,:].astype(int)\n",
    "    fold_data['y_tr'] = tr_y[tr_sort_id]\n",
    "    fold_data['T_tr'] = tr_T[tr_sort_id]\n",
    "\n",
    "    te_sort_id = np.argsort(np.squeeze(te_T))\n",
    "    fold_data['ind_te'] = te_ind[te_sort_id,:].astype(int)\n",
    "    fold_data['y_te'] = te_y[te_sort_id]\n",
    "    fold_data['T_te'] = te_T[te_sort_id]\n",
    "\n",
    "    # we discrete the time-stamps of all data(both train and test),and encoding them with id\n",
    "    # there are two usages of this feature:\n",
    "    # 1: use them as extra mode in some non-dynamict baselines  \n",
    "    # 2: to efficient identify the group of obseved entries with same time-stamps\n",
    "\n",
    "    fold_data['T_disct_tr'] = np.array(list(map(lambda x:recode_dict_globle[x], np.squeeze(fold_data['T_tr'])))).astype(int)\n",
    "    fold_data['T_disct_te'] = np.array(list(map(lambda x:recode_dict_globle[x], np.squeeze(fold_data['T_te'])))).astype(int)\n",
    "\n",
    "    data_save['data'].append(fold_data)\n",
    "\n",
    "    \n",
    "file_name = '../../processed_data/beijing_15k.npy'\n",
    "np.save(file_name, data_save)"
   ],
   "outputs": [],
   "metadata": {}
  },
  {
   "cell_type": "code",
   "execution_count": 14,
   "source": [
    "data_save[\"time_uni\"][1]-data_save[\"time_uni\"][0]"
   ],
   "outputs": [
    {
     "output_type": "execute_result",
     "data": {
      "text/plain": [
       "0.0006849315068493151"
      ]
     },
     "metadata": {},
     "execution_count": 14
    }
   ],
   "metadata": {}
  }
 ],
 "metadata": {
  "orig_nbformat": 4,
  "language_info": {
   "name": "python",
   "version": "3.9.7",
   "mimetype": "text/x-python",
   "codemirror_mode": {
    "name": "ipython",
    "version": 3
   },
   "pygments_lexer": "ipython3",
   "nbconvert_exporter": "python",
   "file_extension": ".py"
  },
  "kernelspec": {
   "name": "python3",
   "display_name": "Python 3.9.7 64-bit ('pytorch_1.10.1': conda)"
  },
  "interpreter": {
   "hash": "c2b9b245c32fdd00062c065bea1c6c406b1fa841caa084ac758573a37ef3ce19"
  }
 },
 "nbformat": 4,
 "nbformat_minor": 2
}