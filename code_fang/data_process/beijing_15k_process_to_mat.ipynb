{
 "cells": [
  {
   "cell_type": "code",
   "execution_count": 1,
   "metadata": {},
   "outputs": [],
   "source": [
    "import numpy as np\n",
    "# import torch\n",
    "import matplotlib.pyplot as plt\n",
    "import pandas as pd  "
   ]
  },
  {
   "cell_type": "code",
   "execution_count": 2,
   "metadata": {},
   "outputs": [],
   "source": [
    "# data_file = '../../../data/movielens/mv_10k.npy'\n",
    "# data_file = '../../../data/clickthrough/ctr_10k.npy'\n",
    "data_file = '../../processed_data/beijing_15k.npy'\n",
    "fold = 0\n",
    "full_data = np.load(data_file, allow_pickle=True).item()\n",
    "\n",
    "data_dict = full_data['data'][fold]\n",
    "data_dict['ndims'] = full_data['ndims'] \n",
    "\n",
    "data_dict['ndims'] = full_data['ndims'] +[len(full_data['time_uni'])]\n",
    "data_dict['tr_ind'] = np.concatenate([data_dict['tr_ind'],data_dict['tr_T_disct'].reshape(-1,1)],1)\n",
    "data_dict['te_ind'] = np.concatenate([data_dict['te_ind'],data_dict['te_T_disct'].reshape(-1,1)],1)\n",
    " "
   ]
  },
  {
   "cell_type": "code",
   "execution_count": 3,
   "metadata": {},
   "outputs": [
    {
     "name": "stdout",
     "output_type": "stream",
     "text": [
      "[12, 6, 12, 1461]\n"
     ]
    }
   ],
   "source": [
    "print(data_dict['ndims'])"
   ]
  },
  {
   "cell_type": "code",
   "execution_count": 4,
   "metadata": {},
   "outputs": [
    {
     "data": {
      "text/plain": [
       "array([[ 3.00000000e+00,  1.00000000e+00,  2.00000000e+00,\n",
       "         0.00000000e+00, -1.05502902e+00],\n",
       "       [ 5.00000000e+00,  2.00000000e+00,  9.00000000e+00,\n",
       "         0.00000000e+00, -1.02264322e+00],\n",
       "       [ 3.00000000e+00,  2.00000000e+00,  8.00000000e+00,\n",
       "         0.00000000e+00, -1.03043980e+00],\n",
       "       ...,\n",
       "       [ 5.00000000e+00,  1.00000000e+00,  7.00000000e+00,\n",
       "         1.46000000e+03, -8.94556521e-01],\n",
       "       [ 5.00000000e+00,  1.00000000e+00,  1.10000000e+01,\n",
       "         1.46000000e+03, -9.89057947e-01],\n",
       "       [ 5.00000000e+00,  1.00000000e+00,  1.00000000e+00,\n",
       "         1.46000000e+03, -9.40479245e-01]])"
      ]
     },
     "execution_count": 4,
     "metadata": {},
     "output_type": "execute_result"
    }
   ],
   "source": [
    "train_data = np.concatenate([data_dict['tr_ind'],data_dict['tr_y']],1)\n",
    "test_data = np.concatenate([data_dict['te_ind'],data_dict['te_y']],1)\n",
    "train_data\n"
   ]
  },
  {
   "cell_type": "code",
   "execution_count": 5,
   "metadata": {},
   "outputs": [],
   "source": [
    "np.savetxt('../../processed_data/for_matlab/beijing_15k_test.txt',test_data,fmt=['%d','%d','%d','%d','%.3f'],delimiter=',')\n",
    "np.savetxt('../../processed_data/for_matlab/beijing_15k_train.txt',train_data,fmt=['%d','%d','%d','%d','%.3f'],delimiter=',')\n"
   ]
  }
 ],
 "metadata": {
  "interpreter": {
   "hash": "0e2c091a91198da3c83fa5f5fdee90d73e538d52511d9a8da7d554d565cda77a"
  },
  "kernelspec": {
   "display_name": "Python 3.9.6 64-bit ('pytorch_gpu': conda)",
   "name": "python3"
  },
  "language_info": {
   "codemirror_mode": {
    "name": "ipython",
    "version": 3
   },
   "file_extension": ".py",
   "mimetype": "text/x-python",
   "name": "python",
   "nbconvert_exporter": "python",
   "pygments_lexer": "ipython3",
   "version": "3.9.12"
  },
  "orig_nbformat": 4
 },
 "nbformat": 4,
 "nbformat_minor": 2
}
