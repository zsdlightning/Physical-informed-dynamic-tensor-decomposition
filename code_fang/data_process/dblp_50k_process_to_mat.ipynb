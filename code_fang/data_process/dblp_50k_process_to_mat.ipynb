{
 "cells": [
  {
   "cell_type": "code",
   "execution_count": 2,
   "metadata": {},
   "outputs": [],
   "source": [
    "import numpy as np\n",
    "# import torch\n",
    "import matplotlib.pyplot as plt\n",
    "import pandas as pd  "
   ]
  },
  {
   "cell_type": "code",
   "execution_count": 5,
   "metadata": {},
   "outputs": [],
   "source": [
    "# data_file = '../../../data/movielens/mv_10k.npy'\n",
    "# data_file = '../../../data/clickthrough/ctr_10k.npy'\n",
    "data_file = '../../processed_data/dblp_50k.npy'\n",
    "fold = 0\n",
    "full_data = np.load(data_file, allow_pickle=True).item()\n",
    "\n",
    "data_dict = full_data['data'][fold]\n",
    "data_dict['ndims'] = full_data['ndims'] \n",
    "\n",
    "data_dict['ndims'] = full_data['ndims'] +[len(full_data['time_uni'])]\n",
    "data_dict['tr_ind'] = np.concatenate([data_dict['tr_ind'],data_dict['tr_T_disct'].reshape(-1,1)],1)\n",
    "data_dict['te_ind'] = np.concatenate([data_dict['te_ind'],data_dict['te_T_disct'].reshape(-1,1)],1)\n",
    " "
   ]
  },
  {
   "cell_type": "code",
   "execution_count": 16,
   "metadata": {},
   "outputs": [
    {
     "name": "stdout",
     "output_type": "stream",
     "text": [
      "[3731, 1935, 169, 11]\n"
     ]
    }
   ],
   "source": [
    "print(data_dict['ndims'])"
   ]
  },
  {
   "cell_type": "code",
   "execution_count": 13,
   "metadata": {},
   "outputs": [
    {
     "data": {
      "text/plain": [
       "array([[1461, 1570,   53,    0,    1],\n",
       "       [3455,  156,  164,    0,    1],\n",
       "       [2126,  229,   68,    0,    1],\n",
       "       ...,\n",
       "       [3462, 1051,  165,   10,    1],\n",
       "       [1874,  406,   15,   10,    1],\n",
       "       [1952,  334,   69,   10,    1]], dtype=int64)"
      ]
     },
     "execution_count": 13,
     "metadata": {},
     "output_type": "execute_result"
    }
   ],
   "source": [
    "train_data = np.concatenate([data_dict['tr_ind'],data_dict['tr_y']],1)\n",
    "test_data = np.concatenate([data_dict['te_ind'],data_dict['te_y']],1)\n",
    "train_data\n"
   ]
  },
  {
   "cell_type": "code",
   "execution_count": 15,
   "metadata": {},
   "outputs": [],
   "source": [
    "np.savetxt('../../processed_data/for_matlab/dblp_50k_test.txt',test_data,fmt=['%d','%d','%d','%d','%.3f'],delimiter=',')\n",
    "np.savetxt('../../processed_data/for_matlab/dblp_50k_train.txt',train_data,fmt=['%d','%d','%d','%d','%.3f'],delimiter=',')\n"
   ]
  }
 ],
 "metadata": {
  "interpreter": {
   "hash": "0e2c091a91198da3c83fa5f5fdee90d73e538d52511d9a8da7d554d565cda77a"
  },
  "kernelspec": {
   "display_name": "Python 3.9.6 64-bit ('pytorch_gpu': conda)",
   "name": "python3"
  },
  "language_info": {
   "codemirror_mode": {
    "name": "ipython",
    "version": 3
   },
   "file_extension": ".py",
   "mimetype": "text/x-python",
   "name": "python",
   "nbconvert_exporter": "python",
   "pygments_lexer": "ipython3",
   "version": "3.9.12"
  },
  "orig_nbformat": 4
 },
 "nbformat": 4,
 "nbformat_minor": 2
}
